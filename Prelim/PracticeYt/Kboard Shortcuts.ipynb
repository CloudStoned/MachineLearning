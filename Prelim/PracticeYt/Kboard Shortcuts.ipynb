{
 "cells": [
  {
   "cell_type": "markdown",
   "id": "62de13c6",
   "metadata": {},
   "source": [
    "M: Switch to Markdown </br>\n",
    "R: Raw Cell </br>\n",
    "Y: Switch to code </br>\n",
    "F: Find and replace </br>\n",
    "Z: undo </br>\n",
    "\n",
    "Ctrl + Shift + -: split at the selected point</br>\n",
    "Shift + arrow down: </br> \n",
    "Shift + m: merge cell </br>\n",
    "\n",
    "Click enter to change from command mode to edit mode"
   ]
  },
  {
   "cell_type": "markdown",
   "id": "95bd652a",
   "metadata": {},
   "source": [
    "### DISPLAY OPTIONS FOR PANDAS"
   ]
  },
  {
   "cell_type": "markdown",
   "id": "f3e00537",
   "metadata": {},
   "source": [
    "pd.options.display.max_rows = how many value you want to show </br>  \n",
    "pd.options.display.max_columns =  </br>\n",
    "pd.option.display.precision = to change desire floating point </br>"
   ]
  },
  {
   "cell_type": "markdown",
   "id": "a19e9a36",
   "metadata": {},
   "source": [
    "### Setting Up alerts when cells finished"
   ]
  },
  {
   "cell_type": "markdown",
   "id": "4c5dc822",
   "metadata": {},
   "source": [
    "!pip install jupyternotify </br>\n",
    "%load_ext jupyternotify </br>\n",
    "\n",
    "%%notify - put this in a cell you want to be notify once it's finished"
   ]
  },
  {
   "cell_type": "markdown",
   "id": "3e4e3fa6",
   "metadata": {},
   "source": [
    "### Create a slideshow out of your notebook"
   ]
  }
 ],
 "metadata": {
  "kernelspec": {
   "display_name": "Python 3 (ipykernel)",
   "language": "python",
   "name": "python3"
  },
  "language_info": {
   "codemirror_mode": {
    "name": "ipython",
    "version": 3
   },
   "file_extension": ".py",
   "mimetype": "text/x-python",
   "name": "python",
   "nbconvert_exporter": "python",
   "pygments_lexer": "ipython3",
   "version": "3.11.5"
  }
 },
 "nbformat": 4,
 "nbformat_minor": 5
}
