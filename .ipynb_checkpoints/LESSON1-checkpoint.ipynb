{
 "cells": [
  {
   "cell_type": "code",
   "execution_count": null,
   "id": "90da4135",
   "metadata": {},
   "outputs": [],
   "source": [
    "import pandas as pd\n",
    "import seaborn as sns\n",
    "import matplotlib.pylot as plt"
   ]
  },
  {
   "cell_type": "code",
   "execution_count": null,
   "id": "babb2446",
   "metadata": {},
   "outputs": [],
   "source": [
    "TITANIC_DATA = pd.read_csv('data/train.csv')"
   ]
  },
  {
   "cell_type": "code",
   "execution_count": null,
   "id": "ba1c4c0e",
   "metadata": {},
   "outputs": [],
   "source": [
    "TITANIC_DATA_CLEANED = TITANIC_DATA.dropna()"
   ]
  },
  {
   "cell_type": "code",
   "execution_count": null,
   "id": "5fa6ea16",
   "metadata": {},
   "outputs": [],
   "source": [
    "TITANIC_DATA.head(10)"
   ]
  },
  {
   "cell_type": "code",
   "execution_count": null,
   "id": "b642b3e1",
   "metadata": {},
   "outputs": [],
   "source": [
    "TITANIC_DATA_CLEANED.head(10)"
   ]
  },
  {
   "cell_type": "code",
   "execution_count": null,
   "id": "43d6301f",
   "metadata": {},
   "outputs": [],
   "source": []
  }
 ],
 "metadata": {
  "kernelspec": {
   "display_name": "Python 3 (ipykernel)",
   "language": "python",
   "name": "python3"
  },
  "language_info": {
   "codemirror_mode": {
    "name": "ipython",
    "version": 3
   },
   "file_extension": ".py",
   "mimetype": "text/x-python",
   "name": "python",
   "nbconvert_exporter": "python",
   "pygments_lexer": "ipython3",
   "version": "3.11.5"
  }
 },
 "nbformat": 4,
 "nbformat_minor": 5
}
