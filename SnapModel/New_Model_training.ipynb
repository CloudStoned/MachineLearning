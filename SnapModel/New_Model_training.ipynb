{
 "cells": [
  {
   "cell_type": "code",
   "execution_count": 1,
   "id": "7b441f08-71e5-49ab-b972-2cd85e166612",
   "metadata": {},
   "outputs": [],
   "source": [
    "import os\n",
    "import cv2\n",
    "import numpy as np\n",
    "import matplotlib.pyplot as plt\n",
    "\n",
    "from sklearn.model_selection import train_test_split\n",
    "from sklearn.svm import SVC\n",
    "from sklearn.ensemble import RandomForestClassifier\n",
    "from sklearn.naive_bayes import GaussianNB\n",
    "from sklearn.tree import DecisionTreeClassifier\n",
    "from sklearn.neighbors import KNeighborsClassifier\n",
    "from sklearn.linear_model import LogisticRegression\n",
    "from sklearn.metrics import accuracy_score"
   ]
  },
  {
   "cell_type": "code",
   "execution_count": 5,
   "id": "3f324386-34d7-4621-9e55-2d44b7d3224f",
   "metadata": {},
   "outputs": [],
   "source": [
    "def resize_images(input_dir, output_dir, target_size=(266, 266)):\n",
    "    \n",
    "    # Create output directory if it doesn't exist\n",
    "    os.makedirs(output_dir, exist_ok=True)\n",
    "\n",
    "    # Loop through files in input directory\n",
    "    for filename in os.listdir(input_dir):\n",
    "        lowercase_filename = filename.lower()\n",
    "        if lowercase_filename.endswith('.jpg') or lowercase_filename.endswith('.png'):\n",
    "            # Read image\n",
    "            image_path = os.path.join(input_dir, filename)\n",
    "            image = cv2.imread(image_path)     \n",
    "\n",
    "            # Resize image\n",
    "            resized_image = cv2.resize(image, target_size)\n",
    "\n",
    "            # Save resized image to output directory\n",
    "            output_path = os.path.join(output_dir, filename)\n",
    "            cv2.imwrite(output_path, resized_image)\n",
    "            \n",
    "            print(f\"Resized and saved {filename} to {output_path}\")\n",
    "\n",
    "    print(\"Done resizing and saving images.\")"
   ]
  },
  {
   "cell_type": "code",
   "execution_count": null,
   "id": "0f3f21fe-7b5b-422b-8446-13dc794ed04e",
   "metadata": {},
   "outputs": [],
   "source": [
    "input_directory = 'pics/raw/mango-tree'\n",
    "output_dirrectory = 'pics/resized/mango-tree'\n",
    "\n",
    "resize_images(input_directory,output_dirrectory)"
   ]
  },
  {
   "cell_type": "code",
   "execution_count": null,
   "id": "5fc654e9-1210-4a71-9400-65e90b9656f3",
   "metadata": {},
   "outputs": [],
   "source": [
    "mulawain_raw = 'pics/raw/mulawin'\n",
    "mulawin_resized = 'pics/resized/mulawin'\n",
    "\n",
    "resize_images(mulawain_raw,mulawin_resized)"
   ]
  },
  {
   "cell_type": "code",
   "execution_count": null,
   "id": "0750bfb9-e856-4438-a82b-4d221312bc44",
   "metadata": {},
   "outputs": [],
   "source": [
    "input_dir = 'pics/raw/palong-maria'\n",
    "output_dir = 'pics/resized/palong-maria'\n",
    "\n",
    "resize_images(input_dir, output_dir)"
   ]
  },
  {
   "cell_type": "code",
   "execution_count": 9,
   "id": "74aa43e3-7b40-45df-bf0b-633ea807ee75",
   "metadata": {},
   "outputs": [],
   "source": [
    "def extract_features(image):\n",
    "\tgray = cv2.cvtColor(image, cv2.COLOR_BGR2GRAY)\n",
    "\thog = cv2.HOGDescriptor()\n",
    "\tfeatures = hog.compute(gray)\n",
    "\treturn features.flatten()"
   ]
  },
  {
   "cell_type": "code",
   "execution_count": 10,
   "id": "2567afb4-68dd-47bf-8911-3d04b26b8ba4",
   "metadata": {},
   "outputs": [],
   "source": [
    "def load_images_from_directory(directory):\n",
    "    images = []\n",
    "    labels = []\n",
    "    class_names = []\n",
    "    for root,dirs,files, in os.walk(directory):\n",
    "        for class_name in dirs:\n",
    "            class_dir = os.path.join(root, class_name)\n",
    "            for filename in os.listdir(class_dir):\n",
    "                img_path = os.path.join(class_dir, filename)\n",
    "                image = cv2.imread(img_path)\n",
    "                if image is not None:\n",
    "                    images.append(image)\n",
    "                    labels.append(class_name)\n",
    "                    class_names.append(class_name)\n",
    "    return images, labels, class_names"
   ]
  },
  {
   "cell_type": "code",
   "execution_count": 11,
   "id": "7fcf3e80-b891-4395-847e-88b5f3c5e69d",
   "metadata": {},
   "outputs": [],
   "source": [
    "def visualize_class_distribution(labels, class_names):\n",
    "    class_counts = {class_name: labels.count(class_name) for class_name in set(class_names)}\n",
    "    plt.bar(class_counts.keys(), class_counts.values())\n",
    "    plt.xlabel('Class')\n",
    "    plt.ylabel('Count')\n",
    "    plt.title('Class Distribution')\n",
    "    plt.show()\n",
    "    total_samples = sum(class_counts.values())\n",
    "    for class_name, count in class_counts.items():\n",
    "        percentage = (count / total_samples) * 100\n",
    "        print(f'{class_name}: {count} samples ({percentage:.2f}%)')"
   ]
  },
  {
   "cell_type": "code",
   "execution_count": 12,
   "id": "6116c195-61ea-4591-8b11-a542b24ed063",
   "metadata": {},
   "outputs": [],
   "source": [
    "directory = 'pics/resized'"
   ]
  },
  {
   "cell_type": "code",
   "execution_count": 13,
   "id": "726e17d0-9e94-4a41-8031-94e190b36891",
   "metadata": {},
   "outputs": [],
   "source": [
    "images, labels, class_names = load_images_from_directory(directory)"
   ]
  },
  {
   "cell_type": "code",
   "execution_count": 14,
   "id": "8ecf41cc-06c4-4c18-ae49-59ca058532c1",
   "metadata": {},
   "outputs": [
    {
     "data": {
      "image/png": "[encoded data removed]",
      "text/plain": [
       "<Figure size 640x480 with 1 Axes>"
      ]
     },
     "metadata": {},
     "output_type": "display_data"
    },
    {
     "name": "stdout",
     "output_type": "stream",
     "text": [
      ".ipynb_checkpoints: 4 samples (8.16%)\n",
      "palong-maria: 15 samples (30.61%)\n",
      "mango-tree: 15 samples (30.61%)\n",
      "mulawin: 15 samples (30.61%)\n"
     ]
    }
   ],
   "source": [
    "visualize_class_distribution(labels, class_names)"
   ]
  },
  {
   "cell_type": "code",
   "execution_count": 1,
   "id": "67248b00-0737-4291-8793-473e7408fe4a",
   "metadata": {},
   "outputs": [
    {
     "ename": "NameError",
     "evalue": "name 'np' is not defined",
     "output_type": "error",
     "traceback": [
      "\u001b[1;31m---------------------------------------------------------------------------\u001b[0m",
      "\u001b[1;31mNameError\u001b[0m                                 Traceback (most recent call last)",
      "Cell \u001b[1;32mIn[1], line 1\u001b[0m\n\u001b[1;32m----> 1\u001b[0m features \u001b[38;5;241m=\u001b[39m np\u001b[38;5;241m.\u001b[39marray([extract_features(img) \u001b[38;5;28;01mfor\u001b[39;00m img \u001b[38;5;129;01min\u001b[39;00m images])\n",
      "\u001b[1;31mNameError\u001b[0m: name 'np' is not defined"
     ]
    }
   ],
   "source": [
    "features = np.array([extract_features(img) for img in images])"
   ]
  },
  {
   "cell_type": "code",
   "execution_count": 16,
   "id": "7a8e1a20-3865-4346-ae72-18d8bae1a2f0",
   "metadata": {},
   "outputs": [],
   "source": [
    "# 30% test size mas maganda kapag maunti palang data mo\n",
    "X_train, X_test, y_train, y_test = train_test_split(features, labels, test_size = 0.3, random_state=42)"
   ]
  },
  {
   "cell_type": "markdown",
   "id": "d3931a40-2768-4d59-8337-e2d2a2865187",
   "metadata": {},
   "source": [
    "# Class of Different Models"
   ]
  },
  {
   "cell_type": "code",
   "execution_count": 30,
   "id": "fe0d83d5-7a02-410b-bfdb-2559c1886c2a",
   "metadata": {},
   "outputs": [],
   "source": [
    "class SVMClassifier:\n",
    "    def __init__(self, kernel='linear'):\n",
    "        self.classifier = SVC(kernel=kernel)\n",
    "    \n",
    "    def train(self, X_train, y_train):\n",
    "        self.classifier.fit(X_train, y_train)\n",
    "    \n",
    "    def predict(self, X_test):\n",
    "        return self.classifier.predict(X_test)\n",
    "\n",
    "class RandomForest:\n",
    "    def __init__(self, n_estimators=100):\n",
    "        self.classifier = RandomForestClassifier(n_estimators=n_estimators)\n",
    "    \n",
    "    def train(self, X_train, y_train):\n",
    "        self.classifier.fit(X_train, y_train)\n",
    "    \n",
    "    def predict(self, X_test):\n",
    "        return self.classifier.predict(X_test)\n",
    "\n",
    "class NaiveBayes:\n",
    "    def __init__(self):\n",
    "        self.classifier = GaussianNB()\n",
    "    \n",
    "    def train(self, X_train, y_train):\n",
    "        self.classifier.fit(X_train, y_train)\n",
    "    \n",
    "    def predict(self, X_test):\n",
    "        return self.classifier.predict(X_test)\n",
    "\n",
    "class DecisionTree:\n",
    "    def __init__(self, max_depth=3):\n",
    "        self.classifier = DecisionTreeClassifier(max_depth=max_depth)\n",
    "    \n",
    "    def train(self, X_train, y_train):\n",
    "        self.classifier.fit(X_train, y_train)\n",
    "    \n",
    "    def predict(self, X_test):\n",
    "        return self.classifier.predict(X_test)\n",
    "\n",
    "class KNNClassifier:\n",
    "    def __init__(self, n_neighbors=2):\n",
    "        self.classifier = KNeighborsClassifier(n_neighbors=n_neighbors)\n",
    "    \n",
    "    def train(self, X_train, y_train):\n",
    "        self.classifier.fit(X_train, y_train)\n",
    "    \n",
    "    def predict(self, X_test):\n",
    "        return self.classifier.predict(X_test)\n",
    "\n",
    "class LogisticRegressionClassifier:\n",
    "    def __init__(self, penalty='l2', C=1.0, solver='lbfgs'):\n",
    "        self.classifier = LogisticRegression(penalty=penalty, C=C, solver=solver)\n",
    "    \n",
    "    def train(self, X_train, y_train):\n",
    "        self.classifier.fit(X_train, y_train)\n",
    "    \n",
    "    def predict(self, X_test):\n",
    "        return self.classifier.predict(X_test)\n",
    "    "
   ]
  },
  {
   "cell_type": "code",
   "execution_count": 18,
   "id": "7c65a79a-d493-4316-a781-4570fa00ba9a",
   "metadata": {},
   "outputs": [],
   "source": [
    "svm_classifier = SVMClassifier(kernel='linear')\n",
    "svm_classifier.train(X_train, y_train)\n",
    "y_pred_svm = svm_classifier.predict(X_test)\n",
    "accuracy_svm = accuracy_score(y_test, y_pred_svm)"
   ]
  },
  {
   "cell_type": "code",
   "execution_count": 19,
   "id": "bdf58f12-5ca6-42f1-81e3-6501162914e6",
   "metadata": {},
   "outputs": [],
   "source": [
    "rf_classifier = RandomForest(n_estimators=100)\n",
    "rf_classifier.train(X_train, y_train)\n",
    "y_pred_rf = rf_classifier.predict(X_test)\n",
    "accuracy_rf = accuracy_score(y_test, y_pred_rf)"
   ]
  },
  {
   "cell_type": "code",
   "execution_count": 20,
   "id": "659ef259-2b47-4d7b-8f0f-b35d43a0a8b1",
   "metadata": {},
   "outputs": [],
   "source": [
    "nb_classifier = NaiveBayes()\n",
    "nb_classifier.train(X_train, y_train)\n",
    "y_pred_nb = nb_classifier.predict(X_test)\n",
    "accuracy_nb = accuracy_score(y_test, y_pred_nb)"
   ]
  },
  {
   "cell_type": "code",
   "execution_count": 22,
   "id": "e6146f12-7f7b-4df3-a982-ec68b8637ba6",
   "metadata": {},
   "outputs": [],
   "source": [
    "dt_classifier = DecisionTree(max_depth=3)\n",
    "dt_classifier.train(X_train, y_train)\n",
    "y_pred_dt = dt_classifier.predict(X_test)\n",
    "accuracy_dt = accuracy_score(y_test, y_pred_dt)"
   ]
  },
  {
   "cell_type": "code",
   "execution_count": 29,
   "id": "6be6a739-dfb2-4a02-a06f-5667f3ff4af4",
   "metadata": {},
   "outputs": [],
   "source": [
    "# knn_classifier = KNNClassifier(n_neighbors=1)\n",
    "# knn_classifier.train(X_train, y_train)\n",
    "# y_pred_knn = knn_classifier.predict(X_test)\n",
    "# accuracy_knn = accuracy_score(y_test, y_pred_knn)"
   ]
  },
  {
   "cell_type": "code",
   "execution_count": 38,
   "id": "59463e26-bb2c-4c37-b615-c2f76f17ed70",
   "metadata": {},
   "outputs": [],
   "source": [
    "# lr_classifier = LogisticRegressionClassifier(penalty='l2', C=1.0, solver='lbfgs')\n",
    "# lr_classifier.train(X_train, y_train)\n",
    "# y_pred_lr = lr_classifier.predict(X_test)\n",
    "# accuracy_lr = accuracy_score(y_test, y_pred_lr)"
   ]
  },
  {
   "cell_type": "code",
   "execution_count": 39,
   "id": "e469d79b-0266-408d-9e86-76270dc6f554",
   "metadata": {},
   "outputs": [
    {
     "name": "stdout",
     "output_type": "stream",
     "text": [
      "Accuracy SVM: 60.0\n",
      "Accuracy Random Forest: 60.0\n",
      "Accuracy Naive Bayes: 60.0\n",
      "Accuracy Decision Tree: 33.33333333333333\n"
     ]
    }
   ],
   "source": [
    "print(\"Accuracy SVM:\", accuracy_svm * 100)\n",
    "print(\"Accuracy Random Forest:\", accuracy_rf * 100)\n",
    "print(\"Accuracy Naive Bayes:\", accuracy_nb * 100)\n",
    "print(\"Accuracy Decision Tree:\", accuracy_dt * 100)\n",
    "# print(\"Accuracy KNN:\", accuracy_knn * 100)\n",
    "# print(\"Accuracy Logistic Regression:\", accuracy_lr * 100)"
   ]
  },
  {
   "cell_type": "code",
   "execution_count": 40,
   "id": "3e95cc3c-bafc-4b3e-818a-e4bf7dd15b46",
   "metadata": {},
   "outputs": [],
   "source": [
    "def preprocess_image(image_path, save_path):\n",
    "    image = cv2.imread(image_path)\n",
    "\n",
    "    grayscale_image = cv2.cvtColor(image, cv2.COLOR_BGR2GRAY)\n",
    "    cv2.imwrite(save_path, grayscale_image)\n",
    "    return grayscale_image"
   ]
  },
  {
   "cell_type": "code",
   "execution_count": 41,
   "id": "435036ab-48b9-43d6-be32-523f0a2d5219",
   "metadata": {},
   "outputs": [],
   "source": [
    "input_image_path = 'pics/resized/mango-tree/IMG_5519.JPG'\n",
    "save_path = 'image1_mango-tree.jpg'\n",
    "preprocessed_image = preprocess_image(input_image_path,save_path)"
   ]
  },
  {
   "cell_type": "code",
   "execution_count": 42,
   "id": "28e666c6-20b7-4c4f-b658-2de70aebd3da",
   "metadata": {},
   "outputs": [
    {
     "name": "stdout",
     "output_type": "stream",
     "text": [
      "SVM PRED: mango-tree\n",
      "RFC PRED: mango-tree\n",
      "NB PRED: mango-tree\n",
      "DT PRED: mango-tree\n"
     ]
    }
   ],
   "source": [
    "input_image = cv2.imread('image1_mango-tree.jpg')\n",
    "\n",
    "if input_image is not None:\n",
    "    input_features = extract_features(input_image).reshape(1,-1)\n",
    "    svm_pred = svm_classifier.predict(input_features)[0]\n",
    "    rfc_pred = rf_classifier.predict(input_features)[0]\n",
    "    nb_pred = nb_classifier.predict(input_features)[0]\n",
    "    dt_pred = dt_classifier.predict(input_features)[0]\n",
    "  \n",
    "    # Display the input image\n",
    "    cv2.imshow('Input Image', input_image)\n",
    "    cv2.waitKey(0)\n",
    "    cv2.destroyAllWindows()\n",
    "    print(\"SVM PRED:\", svm_pred)\n",
    "    print(\"RFC PRED:\", rfc_pred)\n",
    "    print(\"NB PRED:\", nb_pred)\n",
    "    print(\"DT PRED:\", dt_pred)\n",
    "else:\n",
    "    print(\"Error unable to read input image\")"
   ]
  },
  {
   "cell_type": "code",
   "execution_count": null,
   "id": "9786e241-addb-47e1-8027-eb67d7e8c790",
   "metadata": {},
   "outputs": [],
   "source": []
  }
 ],
 "metadata": {
  "kernelspec": {
   "display_name": "Python 3 (ipykernel)",
   "language": "python",
   "name": "python3"
  },
  "language_info": {
   "codemirror_mode": {
    "name": "ipython",
    "version": 3
   },
   "file_extension": ".py",
   "mimetype": "text/x-python",
   "name": "python",
   "nbconvert_exporter": "python",
   "pygments_lexer": "ipython3",
   "version": "3.11.7"
  }
 },
 "nbformat": 4,
 "nbformat_minor": 5
}
