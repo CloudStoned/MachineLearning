{
 "cells": [
  {
   "cell_type": "code",
   "execution_count": 15,
   "id": "35e2e945-db04-42a3-a766-cb6fd86df560",
   "metadata": {},
   "outputs": [],
   "source": [
    "import os\n",
    "import cv2\n",
    "import numpy as np\n",
    "import matplotlib.pyplot as plt\n",
    "import seaborn as sns\n",
    "\n",
    "from sklearn.model_selection import train_test_split\n",
    "from sklearn.svm import SVC\n",
    "from sklearn.ensemble import RandomForestClassifier\n",
    "from sklearn.naive_bayes import GaussianNB\n",
    "from sklearn.tree import DecisionTreeClassifier\n",
    "from sklearn.neighbors import KNeighborsClassifier\n",
    "from sklearn.linear_model import LogisticRegression\n",
    "from sklearn.metrics import accuracy_score,precision_score, recall_score, f1_score\n",
    "from sklearn.decomposition import PCA"
   ]
  },
  {
   "cell_type": "markdown",
   "id": "672d8aea-38be-47e4-b7a3-88cd63762881",
   "metadata": {},
   "source": [
    "# Image resized "
   ]
  },
  {
   "cell_type": "code",
   "execution_count": 2,
   "id": "0ecff7ad-731b-4f5d-b6c1-ed71e777c4fe",
   "metadata": {},
   "outputs": [],
   "source": [
    "class Resizing:\n",
    "    def __init__(self, target_size=(266, 266)):\n",
    "        self.target_size = target_size\n",
    "\n",
    "    def resize_images(self, input_dir, output_dir): #For images inside a folder\n",
    "        # Create output directory if it doesn't exist\n",
    "        os.makedirs(output_dir, exist_ok=True)\n",
    "\n",
    "        # Loop through files in input directory\n",
    "        for filename in os.listdir(input_dir):\n",
    "            lowercase_filename = filename.lower()\n",
    "            if lowercase_filename.endswith('.jpg') or lowercase_filename.endswith('.png'):\n",
    "                # Read image\n",
    "                image_path = os.path.join(input_dir, filename)\n",
    "                image = cv2.imread(image_path)\n",
    "\n",
    "                # Resize image\n",
    "                resized_image = cv2.resize(image, self.target_size)\n",
    "\n",
    "                # Save resized image to output directory\n",
    "                output_path = os.path.join(output_dir, filename)\n",
    "                cv2.imwrite(output_path, resized_image)\n",
    "\n",
    "                print(f\"Resized and saved {filename} to {output_path}\")\n",
    "\n",
    "        print(\"Done resizing and saving images.\")\n",
    "\n",
    "    def resize_image(self, image_path, save_path):  # For a single image only\n",
    "        image = cv2.imread(image_path)\n",
    "\n",
    "        resized_image = cv2.resize(image, self.target_size)\n",
    "\n",
    "        cv2.imwrite(save_path, resized_image)\n",
    "\n",
    "        print(\"Done resizing and saving image.\")\n",
    "        \n",
    "        return resized_image\n"
   ]
  },
  {
   "cell_type": "markdown",
   "id": "de1011eb-5a28-47c7-af10-1f9824b13f8f",
   "metadata": {},
   "source": [
    "## Test Resize"
   ]
  },
  {
   "cell_type": "code",
   "execution_count": 3,
   "id": "b525dc09-27d0-4e98-ba2f-e7080c2a3ad8",
   "metadata": {},
   "outputs": [
    {
     "name": "stdout",
     "output_type": "stream",
     "text": [
      "Done resizing and saving image.\n"
     ]
    }
   ],
   "source": [
    "resizer = Resizing()\n",
    "input_dir = 'pics/raw/mango-tree/IMG_5441.JPG'\n",
    "output_dir = 'test_image_resize.jpg'\n",
    "preprocess_image = resizer.resize_image(input_dir,output_dir)"
   ]
  },
  {
   "cell_type": "code",
   "execution_count": null,
   "id": "91df37ae-d119-4f57-809d-f4812578e8fa",
   "metadata": {},
   "outputs": [],
   "source": [
    "input_directory = 'pics/raw/mango-tree'\n",
    "output_dirrectory = 'pics/new_resized/mango-tree'\n",
    "\n",
    "resizer = Resizing()\n",
    "resizer.resize_images(input_directory,output_dirrectory)"
   ]
  },
  {
   "cell_type": "code",
   "execution_count": null,
   "id": "951d1e5e-5fd5-49a0-8673-74136163493c",
   "metadata": {},
   "outputs": [],
   "source": [
    "input_directory = 'pics/raw/mulawin'\n",
    "output_dirrectory = 'pics/new_resized/mulawin'\n",
    "\n",
    "resizer = Resizing()\n",
    "resizer.resize_images(input_directory,output_dirrectory)"
   ]
  },
  {
   "cell_type": "markdown",
   "id": "1de0eb23-06aa-4640-b7c6-793431b41ec9",
   "metadata": {},
   "source": [
    "# Image Preprocessing Techniques"
   ]
  },
  {
   "cell_type": "code",
   "execution_count": 72,
   "id": "2900e93f-0829-4a1e-ba9b-ccfb4db35ab2",
   "metadata": {},
   "outputs": [],
   "source": [
    "class ImagePreprocessor:\n",
    "    def __init__(self):\n",
    "        pass\n",
    "\n",
    "    def apply_hog_descriptor(self, image):\n",
    "        hog = cv2.HOGDescriptor()\n",
    "        hog_features = hog.compute(image)\n",
    "        return hog_features\n",
    "\n",
    "    def apply_edge_detection(self, image):\n",
    "        edges = cv2.Canny(image, 100, 200)\n",
    "        return edges\n",
    "\n",
    "    def apply_segmentation(self, image):\n",
    "        gray = cv2.cvtColor(image, cv2.COLOR_BGR2GRAY)\n",
    "        ret, segmented = cv2.threshold(gray, 127, 255, cv2.THRESH_BINARY)\n",
    "        return segmented\n",
    "\n",
    "    def convert_to_grayscale(self, image):\n",
    "        gray = cv2.cvtColor(image, cv2.COLOR_BGR2GRAY)\n",
    "        return gray\n",
    "\n",
    "    def extract_features(self, image):\n",
    "        # Example: Apply HOG descriptor\n",
    "        return self.apply_hog_descriptor(image)\n",
    "\n",
    "    def reduce_noise(self, image):\n",
    "        # Example: Apply Gaussian blur\n",
    "        blurred_image = cv2.GaussianBlur(image, (5, 5), 0)\n",
    "        return blurred_image\n",
    "\n",
    "    def preprocess_images_in_directory(self, input_dir, output_dir):\n",
    "        os.makedirs(output_dir, exist_ok=True)\n",
    "\n",
    "        for filename in os.listdir(input_dir):\n",
    "            lowercase_filename = filename.lower()\n",
    "            if lowercase_filename.endswith('.jpg') or lowercase_filename.endswith('.png'):\n",
    "                image_path = os.path.join(input_dir, filename)\n",
    "                output_path = os.path.join(output_dir, filename)\n",
    "\n",
    "                self.preprocess_image(image_path, output_path)\n",
    "                print(f\"Preprocessed and saved {filename} to {output_path}\")\n",
    "\n",
    "        print(\"Done preprocessing and saving images.\")\n",
    "\n",
    "    def preprocess_image(self, image_path, save_path):\n",
    "        image = cv2.imread(image_path)\n",
    "\n",
    "        processed_image = self.apply_edge_detection(image)\n",
    "        processed_image = self.apply_segmentation(processed_image)\n",
    "        processed_image = self.convert_to_grayscale(processed_image)\n",
    "        features = self.extract_features(processed_image)\n",
    "        processed_image = self.reduce_noise(processed_image)\n",
    "        os.makedirs(os.path.dirname(save_path), exist_ok=True)\n",
    "\n",
    "        cv2.imwrite(save_path, processed_image)"
   ]
  },
  {
   "cell_type": "markdown",
   "id": "24fbecf8-bf12-4bfb-b059-e3374d9b206e",
   "metadata": {},
   "source": [
    "## Testing"
   ]
  },
  {
   "cell_type": "code",
   "execution_count": 73,
   "id": "8b906b1c-f05f-428d-b92c-7c468f0c6855",
   "metadata": {},
   "outputs": [
    {
     "data": {
      "text/plain": [
       "True"
      ]
     },
     "execution_count": 73,
     "metadata": {},
     "output_type": "execute_result"
    }
   ],
   "source": [
    "processor = ImagePreprocessor()\n",
    "input_dir = 'test_image_resize.jpg'\n",
    "output_dir = 'test_1.jpg'\n",
    "\n",
    "input_img = cv2.imread(input_dir)\n",
    "grayscale = processor.convert_to_grayscale(input_img)\n",
    "\n",
    "cv2.imwrite(output_dir, grayscale)\n"
   ]
  },
  {
   "cell_type": "markdown",
   "id": "d1e86a63-c802-4e24-9184-3e9def8e54c7",
   "metadata": {},
   "source": [
    "# Models"
   ]
  },
  {
   "cell_type": "code",
   "execution_count": 74,
   "id": "343b9821-5125-44d9-b0c7-937e1136ed71",
   "metadata": {},
   "outputs": [],
   "source": [
    "class Classifier:\n",
    "    def __init__(self, classifier_type, **kwargs):\n",
    "        if classifier_type == 'SVM':\n",
    "            self.classifier = SVC(**kwargs)\n",
    "        elif classifier_type == 'RandomForest':\n",
    "            self.classifier = RandomForestClassifier(**kwargs)\n",
    "        elif classifier_type == 'NaiveBayes':\n",
    "            self.classifier = GaussianNB()\n",
    "        elif classifier_type == 'DecisionTree':\n",
    "            self.classifier = DecisionTreeClassifier(**kwargs)\n",
    "        elif classifier_type == 'KNN':\n",
    "            self.classifier = KNeighborsClassifier(**kwargs)\n",
    "        elif classifier_type == 'LogisticRegression':\n",
    "            self.classifier = LogisticRegression(**kwargs)\n",
    "        else:\n",
    "            raise ValueError(\"Invalid classifier type. Supported types are: SVM, RandomForest, NaiveBayes, DecisionTree, KNN, LogisticRegression\")\n",
    "    \n",
    "    def train(self, X_train, y_train):\n",
    "        self.classifier.fit(X_train, y_train)\n",
    "    \n",
    "    def predict(self, X_test):\n",
    "        return self.classifier.predict(X_test)"
   ]
  },
  {
   "cell_type": "markdown",
   "id": "13b561d9-9720-4cc9-8191-80bcb1be488f",
   "metadata": {},
   "source": [
    "# Evaluation of Models"
   ]
  },
  {
   "cell_type": "code",
   "execution_count": 75,
   "id": "e212b3db-2507-44a6-a025-3ecf25469cfd",
   "metadata": {},
   "outputs": [],
   "source": [
    "class ModelEvaluation:\n",
    "    def __init__(self, y_true, y_pred):\n",
    "        self.y_true = y_true\n",
    "        self.y_pred = y_pred\n",
    "    \n",
    "    def precision(self):\n",
    "        return precision_score(self.y_true, self.y_pred, average='weighted')\n",
    "    \n",
    "    def recall(self):\n",
    "        return recall_score(self.y_true, self.y_pred, average='weighted')\n",
    "    \n",
    "    def f1_score(self):\n",
    "        return f1_score(self.y_true, self.y_pred, average='weighted')\n",
    "    \n",
    "    def accuracy(self):\n",
    "        return accuracy_score(self.y_true, self.y_pred)"
   ]
  },
  {
   "cell_type": "markdown",
   "id": "c8a8afd1-2f97-429f-8f34-ddc71868a6e5",
   "metadata": {},
   "source": [
    "# Data Visualization"
   ]
  },
  {
   "cell_type": "code",
   "execution_count": 94,
   "id": "44b339d2-ecdf-4abc-b923-05a35aa34cb9",
   "metadata": {},
   "outputs": [],
   "source": [
    "def load_images_from_directory(directory):\n",
    "    images = []\n",
    "    labels = []\n",
    "    class_names = []\n",
    "    for root,dirs,files, in os.walk(directory):\n",
    "        for class_name in dirs:\n",
    "            class_dir = os.path.join(root, class_name)\n",
    "            for filename in os.listdir(class_dir):\n",
    "                img_path = os.path.join(class_dir, filename)\n",
    "                image = cv2.imread(img_path)\n",
    "                if image is not None:\n",
    "                    images.append(image)\n",
    "                    labels.append(class_name)\n",
    "                    class_names.append(class_name)\n",
    "    return images, labels, class_names\n",
    "\n",
    "def extract_features(image):\n",
    "\tgray = cv2.cvtColor(image, cv2.COLOR_BGR2GRAY)\n",
    "\thog = cv2.HOGDescriptor()\n",
    "\tfeatures = hog.compute(gray)\n",
    "\treturn features.flatten()\n",
    "\n",
    "class DataVisualization:\n",
    "    def __init__(self):\n",
    "        pass\n",
    "    \n",
    "    def visualize_bargraph(self, labels, class_names):\n",
    "        class_counts = {class_name: labels.count(class_name) for class_name in set(class_names)}\n",
    "        plt.bar(class_counts.keys(), class_counts.values())\n",
    "        plt.xlabel('Class')\n",
    "        plt.ylabel('Count')\n",
    "        plt.title('Class Distribution')\n",
    "        plt.show()\n",
    "        total_samples = sum(class_counts.values())\n",
    "        for class_name, count in class_counts.items():\n",
    "            percentage = (count / total_samples) * 100\n",
    "            print(f'{class_name}: {count} samples ({percentage:.2f}%)')\n",
    "            \n",
    "    def visualize_heatmap(self, images):\n",
    "        # Convert images to numpy array\n",
    "        images_array = np.array(images) / 255.0\n",
    "        \n",
    "        # Calculate average pixel intensity across all images\n",
    "        average_intensity = np.mean(images_array, axis=0)\n",
    "        \n",
    "        # Visualize heatmap\n",
    "        plt.figure(figsize=(8, 6))\n",
    "        plt.imshow(average_intensity, cmap='hot', interpolation='nearest')\n",
    "        plt.colorbar(label='Average Pixel Intensity')\n",
    "        plt.title('Heatmap of Average Pixel Intensity')\n",
    "        plt.show()\n",
    "\n",
    "    def visualize_linegraph(self,labels, class_names):\n",
    "        class_counts = {class_name: labels.count(class_name) for class_name in set(class_names)}\n",
    "        sorted_counts = sorted(class_counts.items(), key=lambda x: class_names.index(x[0]))  # Sort by original order of class_names\n",
    "    \n",
    "        # Extract class names and corresponding counts\n",
    "        class_names = [item[0] for item in sorted_counts]\n",
    "        counts = [item[1] for item in sorted_counts]\n",
    "    \n",
    "        # Visualize line graph\n",
    "        plt.figure(figsize=(10, 6))\n",
    "        plt.plot(class_names, counts, marker='o', linestyle='-')\n",
    "        plt.xlabel('Class')\n",
    "        plt.ylabel('Number of Images')\n",
    "        plt.title('Class Distribution Over Time')\n",
    "        plt.xticks(rotation=45, ha='right')  # Rotate x-axis labels for better readability\n",
    "        plt.grid(True)\n",
    "        plt.show()\n",
    "\n",
    "    def visualize_scatterplot(self, directory):\n",
    "        # Load images from directory\n",
    "        images, _, _ = load_images_from_directory(directory)\n",
    "    \n",
    "        # Extract features (mean pixel intensity)\n",
    "        features = [np.mean(image) for image in images]\n",
    "    \n",
    "        # Define y variable for the scatter plot (image index)\n",
    "        y_data = range(len(features))\n",
    "    \n",
    "        # Visualize scatter plot\n",
    "        plt.figure(figsize=(8, 6))\n",
    "        plt.scatter(features, y_data)\n",
    "        plt.xlabel('Mean Pixel Intensity')\n",
    "        plt.ylabel('Image Index')\n",
    "        plt.title('Scatter Plot of Mean Pixel Intensity')\n",
    "        plt.show()\n"
   ]
  },
  {
   "cell_type": "code",
   "execution_count": 91,
   "id": "0afb70f8-8775-4871-9f1e-b9a1293cc880",
   "metadata": {},
   "outputs": [],
   "source": [
    "directory = 'pics/new_resized'"
   ]
  },
  {
   "cell_type": "code",
   "execution_count": 92,
   "id": "bb18bf2b-9ddf-448f-bec6-79f9caafa91b",
   "metadata": {},
   "outputs": [],
   "source": [
    "images, labels, class_names = load_images_from_directory(directory)"
   ]
  },
  {
   "cell_type": "code",
   "execution_count": 93,
   "id": "026bb380-fe4c-45e4-858b-dd9148197c88",
   "metadata": {},
   "outputs": [
    {
     "data": {
      "image/png": "[encoded data removed]",
      "text/plain": [
       "<Figure size 800x600 with 1 Axes>"
      ]
     },
     "metadata": {},
     "output_type": "display_data"
    }
   ],
   "source": [
    "vis = DataVisualization()\n",
    "vis.visualize_scatterplot(directory)"
   ]
  },
  {
   "cell_type": "code",
   "execution_count": 95,
   "id": "ef7db44c-b5a0-4d3d-9fd3-b9092b73001d",
   "metadata": {},
   "outputs": [],
   "source": [
    "features = np.array([extract_features(img) for img in images])"
   ]
  },
  {
   "cell_type": "code",
   "execution_count": 96,
   "id": "4ea5e92e-34b4-411e-b164-8f7a74cfffa1",
   "metadata": {},
   "outputs": [],
   "source": [
    "# 30% test size mas maganda kapag maunti palang data mo\n",
    "X_train, X_test, y_train, y_test = train_test_split(features, labels, test_size = 0.3, random_state=42)"
   ]
  },
  {
   "cell_type": "code",
   "execution_count": 97,
   "id": "e176b1c1-e6b0-4ec6-8512-7a0de6d8e010",
   "metadata": {},
   "outputs": [],
   "source": [
    "classifier = Classifier(classifier_type='SVM', kernel='linear')\n",
    "classifier.train(X_train, y_train)\n",
    "y_pred_svm = classifier.predict(X_test)"
   ]
  },
  {
   "cell_type": "code",
   "execution_count": 101,
   "id": "3f602320-45b7-48a1-90a4-7842f94d20dc",
   "metadata": {},
   "outputs": [],
   "source": [
    "eval = ModelEvaluation(y_test,y_pred_svm)\n",
    "precision_svm = eval.precision()\n",
    "recall_svm = eval.recall()\n",
    "f1_score_svm = eval.f1_score()\n",
    "accuracy_svm = eval.accuracy()"
   ]
  },
  {
   "cell_type": "code",
   "execution_count": 103,
   "id": "652af58b-0489-4b75-8232-641967631259",
   "metadata": {},
   "outputs": [
    {
     "name": "stdout",
     "output_type": "stream",
     "text": [
      "Precision Score SVM: 100.0\n",
      "Recall Score SVM: 100.0\n",
      "F1 Score SVM: 100.0\n",
      "Accuracy Score SVM: 100.0\n"
     ]
    }
   ],
   "source": [
    "print(\"Precision Score SVM:\", precision_svm * 100)\n",
    "print(\"Recall Score SVM:\", recall_svm * 100)\n",
    "print(\"F1 Score SVM:\", f1_score_svm * 100)\n",
    "print(\"Accuracy Score SVM:\", accuracy_svm * 100)"
   ]
  },
  {
   "cell_type": "code",
   "execution_count": 104,
   "id": "00105d80-663a-4f27-8945-b5577da342f0",
   "metadata": {},
   "outputs": [],
   "source": [
    "classifier_rfc = Classifier(classifier_type='RandomForest', n_estimators=100)\n",
    "classifier_rfc.train(X_train, y_train)\n",
    "y_pred_rfc = classifier_rfc.predict(X_test)"
   ]
  },
  {
   "cell_type": "code",
   "execution_count": 105,
   "id": "c3a4ffcf-874d-4843-b58c-f37615b80062",
   "metadata": {},
   "outputs": [],
   "source": [
    "eval_rfc = ModelEvaluation(y_test,y_pred_rfc)\n",
    "precision_rfc = eval_rfc.precision()\n",
    "recall_rfc = eval_rfc.recall()\n",
    "f1_score_rfc = eval_rfc.f1_score()\n",
    "accuracy_rfc = eval_rfc.accuracy()"
   ]
  },
  {
   "cell_type": "code",
   "execution_count": 106,
   "id": "e9f0f333-ae9b-4be9-aa62-20cdad11b3f1",
   "metadata": {},
   "outputs": [
    {
     "name": "stdout",
     "output_type": "stream",
     "text": [
      "Precision Score RFC: 91.66666666666666\n",
      "Recall Score RFC: 88.88888888888889\n",
      "F1 Score RFC: 89.17748917748918\n",
      "Accuracy Score RFC: 88.88888888888889\n"
     ]
    }
   ],
   "source": [
    "print(\"Precision Score RFC:\", precision_rfc * 100)\n",
    "print(\"Recall Score RFC:\", recall_rfc * 100)\n",
    "print(\"F1 Score RFC:\", f1_score_rfc * 100)\n",
    "print(\"Accuracy Score RFC:\", accuracy_rfc * 100)"
   ]
  },
  {
   "cell_type": "code",
   "execution_count": null,
   "id": "2fd1b961-283a-4d50-a6df-e59f759b4dcd",
   "metadata": {},
   "outputs": [],
   "source": []
  }
 ],
 "metadata": {
  "kernelspec": {
   "display_name": "Python 3 (ipykernel)",
   "language": "python",
   "name": "python3"
  },
  "language_info": {
   "codemirror_mode": {
    "name": "ipython",
    "version": 3
   },
   "file_extension": ".py",
   "mimetype": "text/x-python",
   "name": "python",
   "nbconvert_exporter": "python",
   "pygments_lexer": "ipython3",
   "version": "3.11.7"
  }
 },
 "nbformat": 4,
 "nbformat_minor": 5
}
