{
 "cells": [
  {
   "cell_type": "code",
   "execution_count": 1,
   "id": "583b1fd4-7378-4ff4-8f6f-dce69d4d594f",
   "metadata": {},
   "outputs": [],
   "source": [
    "import cv2\n",
    "import os "
   ]
  },
  {
   "cell_type": "code",
   "execution_count": 10,
   "id": "47c4f64d-3ebb-49d0-b419-9ebfa06e1124",
   "metadata": {},
   "outputs": [
    {
     "name": "stdout",
     "output_type": "stream",
     "text": [
      "Renamed \"2024_03_27 11_08 AM Office Lens (1).jpg\" to \"1 of 51.jpg\"\n",
      "Renamed \"2024_03_27 11_08 AM Office Lens (10).jpg\" to \"2 of 51.jpg\"\n",
      "Renamed \"2024_03_27 11_08 AM Office Lens (11).jpg\" to \"3 of 51.jpg\"\n",
      "Renamed \"2024_03_27 11_08 AM Office Lens (12).jpg\" to \"4 of 51.jpg\"\n",
      "Renamed \"2024_03_27 11_08 AM Office Lens (13).jpg\" to \"5 of 51.jpg\"\n",
      "Renamed \"2024_03_27 11_08 AM Office Lens (14).jpg\" to \"6 of 51.jpg\"\n",
      "Renamed \"2024_03_27 11_08 AM Office Lens (15).jpg\" to \"7 of 51.jpg\"\n",
      "Renamed \"2024_03_27 11_08 AM Office Lens (16).jpg\" to \"8 of 51.jpg\"\n",
      "Renamed \"2024_03_27 11_08 AM Office Lens (17).jpg\" to \"9 of 51.jpg\"\n",
      "Renamed \"2024_03_27 11_08 AM Office Lens (18).jpg\" to \"10 of 51.jpg\"\n",
      "Renamed \"2024_03_27 11_08 AM Office Lens (19).jpg\" to \"11 of 51.jpg\"\n",
      "Renamed \"2024_03_27 11_08 AM Office Lens (2).jpg\" to \"12 of 51.jpg\"\n",
      "Renamed \"2024_03_27 11_08 AM Office Lens (20).jpg\" to \"13 of 51.jpg\"\n",
      "Renamed \"2024_03_27 11_08 AM Office Lens (21).jpg\" to \"14 of 51.jpg\"\n",
      "Renamed \"2024_03_27 11_08 AM Office Lens (22).jpg\" to \"15 of 51.jpg\"\n",
      "Renamed \"2024_03_27 11_08 AM Office Lens (23).jpg\" to \"16 of 51.jpg\"\n",
      "Renamed \"2024_03_27 11_08 AM Office Lens (24).jpg\" to \"17 of 51.jpg\"\n",
      "Renamed \"2024_03_27 11_08 AM Office Lens (25).jpg\" to \"18 of 51.jpg\"\n",
      "Renamed \"2024_03_27 11_08 AM Office Lens (3).jpg\" to \"19 of 51.jpg\"\n",
      "Renamed \"2024_03_27 11_08 AM Office Lens (4).jpg\" to \"20 of 51.jpg\"\n",
      "Renamed \"2024_03_27 11_08 AM Office Lens (6).jpg\" to \"21 of 51.jpg\"\n",
      "Renamed \"2024_03_27 11_08 AM Office Lens (7).jpg\" to \"22 of 51.jpg\"\n",
      "Renamed \"2024_03_27 11_08 AM Office Lens (8).jpg\" to \"23 of 51.jpg\"\n",
      "Renamed \"2024_03_27 11_08 AM Office Lens (9).jpg\" to \"24 of 51.jpg\"\n",
      "Renamed \"2024_03_27 4_59 PM Office Lens (4).jpg\" to \"25 of 51.jpg\"\n",
      "Renamed \"2024_03_28 6_18 PM Office Lens (1).jpg\" to \"26 of 51.jpg\"\n",
      "Renamed \"2024_03_28 6_18 PM Office Lens (10).jpg\" to \"27 of 51.jpg\"\n",
      "Renamed \"2024_03_28 6_18 PM Office Lens (11).jpg\" to \"28 of 51.jpg\"\n",
      "Renamed \"2024_03_28 6_18 PM Office Lens (12).jpg\" to \"29 of 51.jpg\"\n",
      "Renamed \"2024_03_28 6_18 PM Office Lens (13).jpg\" to \"30 of 51.jpg\"\n",
      "Renamed \"2024_03_28 6_18 PM Office Lens (14).jpg\" to \"31 of 51.jpg\"\n",
      "Renamed \"2024_03_28 6_18 PM Office Lens (15).jpg\" to \"32 of 51.jpg\"\n",
      "Renamed \"2024_03_28 6_18 PM Office Lens (16).jpg\" to \"33 of 51.jpg\"\n",
      "Renamed \"2024_03_28 6_18 PM Office Lens (17).jpg\" to \"34 of 51.jpg\"\n",
      "Renamed \"2024_03_28 6_18 PM Office Lens (18).jpg\" to \"35 of 51.jpg\"\n",
      "Renamed \"2024_03_28 6_18 PM Office Lens (19).jpg\" to \"36 of 51.jpg\"\n",
      "Renamed \"2024_03_28 6_18 PM Office Lens (2).jpg\" to \"37 of 51.jpg\"\n",
      "Renamed \"2024_03_28 6_18 PM Office Lens (20).jpg\" to \"38 of 51.jpg\"\n",
      "Renamed \"2024_03_28 6_18 PM Office Lens (21).jpg\" to \"39 of 51.jpg\"\n",
      "Renamed \"2024_03_28 6_18 PM Office Lens (22).jpg\" to \"40 of 51.jpg\"\n",
      "Renamed \"2024_03_28 6_18 PM Office Lens (23).jpg\" to \"41 of 51.jpg\"\n",
      "Renamed \"2024_03_28 6_18 PM Office Lens (24).jpg\" to \"42 of 51.jpg\"\n",
      "Renamed \"2024_03_28 6_18 PM Office Lens (25).jpg\" to \"43 of 51.jpg\"\n",
      "Renamed \"2024_03_28 6_18 PM Office Lens (26).jpg\" to \"44 of 51.jpg\"\n",
      "Renamed \"2024_03_28 6_18 PM Office Lens (3).jpg\" to \"45 of 51.jpg\"\n",
      "Renamed \"2024_03_28 6_18 PM Office Lens (4).jpg\" to \"46 of 51.jpg\"\n",
      "Renamed \"2024_03_28 6_18 PM Office Lens (5).jpg\" to \"47 of 51.jpg\"\n",
      "Renamed \"2024_03_28 6_18 PM Office Lens (6).jpg\" to \"48 of 51.jpg\"\n",
      "Renamed \"2024_03_28 6_18 PM Office Lens (7).jpg\" to \"49 of 51.jpg\"\n",
      "Renamed \"2024_03_28 6_18 PM Office Lens (8).jpg\" to \"50 of 51.jpg\"\n",
      "Renamed \"2024_03_28 6_18 PM Office Lens (9).jpg\" to \"51 of 51.jpg\"\n"
     ]
    }
   ],
   "source": [
    "\n",
    "\n",
    "folder_path = '../dataset100/train/Ylang-ylang'\n",
    "image_files = [f for f in os.listdir(folder_path) if f.endswith(('.png', '.jpg', '.jpeg', '.JPG'))]\n",
    "total_files = len(image_files)\n",
    "\n",
    "# Sort the files to maintain a logical order in numbering\n",
    "image_files.sort()\n",
    "\n",
    "for i, image_file in enumerate(image_files, start=1):\n",
    "    new_name = f\"{i} of {total_files}{os.path.splitext(image_file)[1]}\"  # Keep the original extension\n",
    "    old_file = os.path.join(folder_path, image_file)\n",
    "    new_file = os.path.join(folder_path, new_name)\n",
    "    os.rename(old_file, new_file)\n",
    "    print(f'Renamed \"{image_file}\" to \"{new_name}\"')"
   ]
  }
 ],
 "metadata": {
  "kernelspec": {
   "display_name": "Python 3 (ipykernel)",
   "language": "python",
   "name": "python3"
  },
  "language_info": {
   "codemirror_mode": {
    "name": "ipython",
    "version": 3
   },
   "file_extension": ".py",
   "mimetype": "text/x-python",
   "name": "python",
   "nbconvert_exporter": "python",
   "pygments_lexer": "ipython3",
   "version": "3.11.7"
  }
 },
 "nbformat": 4,
 "nbformat_minor": 5
}
