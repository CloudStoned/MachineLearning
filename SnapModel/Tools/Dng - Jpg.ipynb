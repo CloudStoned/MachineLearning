{
 "cells": [
  {
   "cell_type": "code",
   "execution_count": 3,
   "id": "b67b808c-9566-4d2a-9fab-355887d9dee6",
   "metadata": {},
   "outputs": [
    {
     "name": "stdout",
     "output_type": "stream",
     "text": [
      "Conversion completed for ../dataset100/train/Dita\\IMG_5244.DNG\n",
      "Conversion completed for ../dataset100/train/Dita\\IMG_5245.DNG\n",
      "Conversion completed for ../dataset100/train/Dita\\IMG_5247.DNG\n",
      "Conversion completed for ../dataset100/train/Dita\\IMG_5250.DNG\n",
      "Conversion completed for ../dataset100/train/Dita\\IMG_5251.DNG\n",
      "Conversion completed for ../dataset100/train/Dita\\IMG_5252.DNG\n",
      "Conversion completed for ../dataset100/train/Dita\\IMG_5253.DNG\n",
      "Conversion completed for ../dataset100/train/Dita\\IMG_5254.DNG\n",
      "Conversion completed for ../dataset100/train/Dita\\IMG_5257.DNG\n",
      "Conversion completed for ../dataset100/train/Dita\\IMG_5258.DNG\n",
      "Conversion completed for ../dataset100/train/Dita\\IMG_5259.DNG\n",
      "Conversion completed for ../dataset100/train/Dita\\IMG_5260.DNG\n",
      "Conversion completed for ../dataset100/train/Dita\\IMG_5261.DNG\n",
      "Conversion completed for ../dataset100/train/Dita\\IMG_5262.DNG\n",
      "Conversion completed for ../dataset100/train/Dita\\IMG_5263.DNG\n",
      "Total files processed: 15\n"
     ]
    }
   ],
   "source": [
    "import os\n",
    "from PIL import Image\n",
    "\n",
    "def convert_dng_to_jpg(input_path, output_path):\n",
    "    try:\n",
    "        # Open DNG file\n",
    "        image = Image.open(input_path)\n",
    "        \n",
    "        # Convert DNG to JPEG\n",
    "        image = image.convert('RGB')\n",
    "        \n",
    "        # Save as JPEG\n",
    "        image.save(output_path)\n",
    "        print(\"Conversion completed for\", input_path)\n",
    "    except Exception as e:\n",
    "        print(\"Error during conversion for\", input_path, \":\", str(e))\n",
    "\n",
    "def batch_convert_dng_to_jpg(input_dir, output_dir):\n",
    "    # Create output directory if it doesn't exist\n",
    "    if not os.path.exists(output_dir):\n",
    "        os.makedirs(output_dir)\n",
    "    \n",
    "    # Iterate over files in input directory\n",
    "    files_processed = 0\n",
    "    for filename in os.listdir(input_dir):\n",
    "        if filename.endswith('.DNG'):\n",
    "            input_path = os.path.join(input_dir, filename)\n",
    "            output_path = os.path.join(output_dir, os.path.splitext(filename)[0] + '.jpg')\n",
    "            convert_dng_to_jpg(input_path, output_path)\n",
    "            files_processed += 1\n",
    "    \n",
    "    print(f\"Total files processed: {files_processed}\")\n",
    "\n",
    "# Example usage\n",
    "input_directory = \"../dataset100/train/Dita\"\n",
    "output_directory = \"DNG-PNG\"\n",
    "batch_convert_dng_to_jpg(input_directory, output_directory)\n"
   ]
  }
 ],
 "metadata": {
  "kernelspec": {
   "display_name": "Python 3 (ipykernel)",
   "language": "python",
   "name": "python3"
  },
  "language_info": {
   "codemirror_mode": {
    "name": "ipython",
    "version": 3
   },
   "file_extension": ".py",
   "mimetype": "text/x-python",
   "name": "python",
   "nbconvert_exporter": "python",
   "pygments_lexer": "ipython3",
   "version": "3.11.7"
  }
 },
 "nbformat": 4,
 "nbformat_minor": 5
}
