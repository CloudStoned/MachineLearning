{
 "cells": [
  {
   "cell_type": "code",
   "execution_count": 1,
   "id": "56bc458f",
   "metadata": {},
   "outputs": [],
   "source": [
    "import os\n",
    "import cv2\n",
    "import numpy as np\n",
    "import matplotlib.pyplot as plt\n",
    "\n",
    "from sklearn.model_selection import train_test_split\n",
    "from sklearn.svm import SVC\n",
    "from sklearn.ensemble import RandomForestClassifier\n",
    "from sklearn.metrics import accuracy_score\n",
    "from skimage.transform import resize"
   ]
  },
  {
   "cell_type": "code",
   "execution_count": 2,
   "id": "d59d2706",
   "metadata": {},
   "outputs": [],
   "source": [
    "def extract_features(image):\n",
    "    gray = cv2.cvtColor(image, cv2.COLOR_BGR2GRAY)\n",
    "    hog = cv2.HOGDescriptor()\n",
    "    features = hog.compute(gray)\n",
    "    print(features)\n",
    "    return features.flatten()"
   ]
  },
  {
   "cell_type": "code",
   "execution_count": 3,
   "id": "301cdda8",
   "metadata": {},
   "outputs": [],
   "source": [
    "def load_images_from_directory(directory):\n",
    "    images = []\n",
    "    labels = []\n",
    "    class_names = []\n",
    "    for root,dirs,files, in os.walk(directory):\n",
    "        for class_name in dirs:\n",
    "            class_dir = os.path.join(root, class_name)\n",
    "            for filename in os.listdir(class_dir):\n",
    "                img_path = os.path.join(class_dir, filename)\n",
    "                image = cv2.imread(img_path)\n",
    "                if image is not None:\n",
    "                    images.append(image)\n",
    "                    labels.append(class_name)\n",
    "                    class_names.append(class_name)\n",
    "    return images, labels, class_names"
   ]
  },
  {
   "cell_type": "code",
   "execution_count": 4,
   "id": "a4edb7dd",
   "metadata": {},
   "outputs": [],
   "source": [
    "def visualize_class_distribution(labels, class_names):\n",
    "    class_counts = {class_name: labels.count(class_name) for class_name in set(class_names)}\n",
    "    plt.bar(class_counts.keys(), class_counts.values())\n",
    "    plt.xlabel('Class')\n",
    "    plt.ylabel('Count')\n",
    "    plt.title('Class Distribution')\n",
    "    plt.show()\n",
    "    total_samples = sum(class_counts.values())\n",
    "    for class_name, count in class_counts.items():\n",
    "        percentage = (count / total_samples) * 100\n",
    "        print(f'{class_name}: {count} samples ({percentage:.2f}%)')"
   ]
  },
  {
   "cell_type": "code",
   "execution_count": 5,
   "id": "2c06b363",
   "metadata": {},
   "outputs": [],
   "source": [
    "directory = 'dataset200/train'"
   ]
  },
  {
   "cell_type": "code",
   "execution_count": 6,
   "id": "4e1924f0",
   "metadata": {},
   "outputs": [],
   "source": [
    "images, labels, class_names = load_images_from_directory(directory)"
   ]
  },
  {
   "cell_type": "code",
   "execution_count": 7,
   "id": "0be0a66c",
   "metadata": {},
   "outputs": [
    {
     "data": {
      "image/png": "[encoded data removed]",
      "text/plain": [
       "<Figure size 640x480 with 1 Axes>"
      ]
     },
     "metadata": {},
     "output_type": "display_data"
    },
    {
     "name": "stdout",
     "output_type": "stream",
     "text": [
      "Mangifera: 32 samples (30.19%)\n",
      "Acacia: 34 samples (32.08%)\n",
      "Cocos_nucifera: 40 samples (37.74%)\n"
     ]
    }
   ],
   "source": [
    "visualize_class_distribution(labels, class_names)"
   ]
  },
  {
   "cell_type": "code",
   "execution_count": 8,
   "id": "3a26c99a",
   "metadata": {
    "scrolled": true
   },
   "outputs": [
    {
     "name": "stdout",
     "output_type": "stream",
     "text": [
      "[0.19355883 0.18274534 0.16172057 ... 0.284248   0.16773617 0.11241294]\n",
      "[0.15563142 0.23538916 0.14571449 ... 0.06028985 0.16268593 0.26797843]\n",
      "[0.22626922 0.20872176 0.16894391 ... 0.3892944  0.10853568 0.03147558]\n",
      "[0.24010162 0.24010162 0.16422574 ... 0.11571288 0.17523211 0.25796646]\n",
      "[0.15651067 0.23140308 0.22789687 ... 0.12220321 0.2535933  0.2535933 ]\n",
      "[0.20638786 0.17472029 0.18831633 ... 0.10214774 0.04104645 0.03604883]\n",
      "[0.22711948 0.20909518 0.07188046 ... 0.10423375 0.13587211 0.15028386]\n",
      "[0.18399377 0.13533522 0.1352776  ... 0.14952493 0.17985149 0.1456881 ]\n",
      "[0.11567257 0.11987711 0.11780095 ... 0.11501475 0.2099907  0.28069553]\n",
      "[0.22730091 0.22378239 0.12549323 ... 0.14309081 0.25652322 0.25652322]\n",
      "[0.06952638 0.02155636 0.04408224 ... 0.01302644 0.02827035 0.08703139]\n",
      "[0.09644279 0.01608943 0.00228329 ... 0.13049954 0.30793282 0.30793282]\n",
      "[0.14528368 0.2202407  0.21066944 ... 0.28732818 0.31653625 0.17366274]\n",
      "[0.19028398 0.24153465 0.20939296 ... 0.29411858 0.14409061 0.0697739 ]\n",
      "[0.21931931 0.1502451  0.15900229 ... 0.3305594  0.22952099 0.05513965]\n",
      "[0.08038566 0.08122898 0.13198067 ... 0.07579947 0.11193631 0.07998884]\n",
      "[0.03676485 0.03626374 0.0382448  ... 0.02963924 0.09176068 0.28994974]\n",
      "[0.04733914 0.04398114 0.23069973 ... 0.24552532 0.27085844 0.27085844]\n",
      "[0.16407898 0.02543068 0.03649821 ... 0.04182715 0.07958781 0.16804288]\n",
      "[0.18522835 0.04812292 0.02943338 ... 0.02053377 0.18040973 0.36181492]\n",
      "[0.05793359 0.00774909 0.02377504 ... 0.00541217 0.01106828 0.06217625]\n",
      "[0.22389622 0.06635842 0.0517838  ... 0.01649566 0.1585414  0.35520026]\n",
      "[0.02147596 0.02993272 0.10310158 ... 0.20107171 0.15740788 0.06327871]\n",
      "[0.04993219 0.12574044 0.04666727 ... 0.23580894 0.20423214 0.23967725]\n",
      "[0.27782962 0.19509263 0.16882604 ... 0.18714611 0.3056458  0.3056458 ]\n",
      "[0.09523951 0.08529723 0.09971672 ... 0.04361255 0.35676095 0.35676095]\n",
      "[0.1525671  0.17275576 0.13916802 ... 0.23471966 0.30894968 0.30894968]\n",
      "[0.17286105 0.09043024 0.11770466 ... 0.07041818 0.2631302  0.2823932 ]\n",
      "[0.32261693 0.32261693 0.06462783 ... 0.13230263 0.11637073 0.2645014 ]\n",
      "[0.16459621 0.19748259 0.16704561 ... 0.2561731  0.29893956 0.29893956]\n",
      "[0.26363736 0.06328715 0.01522956 ... 0.08230065 0.15250063 0.2952974 ]\n",
      "[0.12972334 0.12204126 0.1136875  ... 0.06980326 0.1690804  0.2179629 ]\n",
      "[0.05344436 0.00864956 0.02888816 ... 0.00831352 0.13622448 0.37989524]\n",
      "[0.09760035 0.06355429 0.02292152 ... 0.05059932 0.32559118 0.32559118]\n",
      "[0.17734887 0.05107899 0.01828527 ... 0.208996   0.15036193 0.24526863]\n",
      "[0.20665765 0.09761634 0.10875025 ... 0.13348837 0.10307406 0.13388883]\n",
      "[0.15891539 0.07893545 0.08314385 ... 0.1628663  0.21881106 0.25742123]\n",
      "[0.12769462 0.04640498 0.02079646 ... 0.2206895  0.25653854 0.25653854]\n",
      "[0.13052092 0.14744169 0.21605225 ... 0.24301337 0.1889997  0.21766907]\n",
      "[0.03588395 0.0154236  0.10173729 ... 0.09263372 0.27151075 0.27290297]\n",
      "[0.0732322  0.04632718 0.05223614 ... 0.2319747  0.14280619 0.20058377]\n",
      "[0.10560086 0.08884166 0.25233468 ... 0.03826735 0.04612463 0.11381974]\n",
      "[0.12940037 0.04169514 0.02970407 ... 0.21207923 0.132934   0.211967  ]\n",
      "[0.24115172 0.13985348 0.15028916 ... 0.21903747 0.24678591 0.21256055]\n",
      "[0.04027509 0.12497571 0.15072738 ... 0.24377532 0.24377532 0.24377532]\n",
      "[0.21622793 0.22420989 0.11266869 ... 0.14845033 0.21754576 0.22818753]\n",
      "[0.1918612  0.10178724 0.0634514  ... 0.09116999 0.13097976 0.19709015]\n",
      "[0.13056538 0.0490788  0.04024539 ... 0.05618178 0.12367425 0.18431002]\n",
      "[0.09097442 0.01854277 0.02895838 ... 0.05669196 0.06438474 0.16071108]\n",
      "[0.1775687  0.17313175 0.09098022 ... 0.12723348 0.1457777  0.12186907]\n",
      "[0.17512597 0.25151026 0.2565563  ... 0.11358511 0.18081386 0.22186805]\n",
      "[0.22873819 0.04177905 0.03474512 ... 0.08344734 0.08491366 0.28814164]\n",
      "[0.11998466 0.03378403 0.03575676 ... 0.2954406  0.13571756 0.2954406 ]\n",
      "[0.1560921  0.06625714 0.08225008 ... 0.13230713 0.18670209 0.23337972]\n",
      "[0.12492344 0.27111045 0.27111045 ... 0.12778927 0.15523331 0.13404   ]\n",
      "[0.05694555 0.10400044 0.1350475  ... 0.24627016 0.14865729 0.16271314]\n",
      "[0.16907945 0.24687131 0.16822234 ... 0.08941463 0.06039646 0.2718855 ]\n",
      "[0.15310219 0.23303655 0.30358145 ... 0.14650327 0.2652684  0.2652684 ]\n",
      "[0.09704268 0.09038315 0.09013697 ... 0.15098871 0.17151693 0.25862554]\n",
      "[0.23288853 0.12920837 0.07481592 ... 0.08126371 0.13383627 0.20436607]\n",
      "[0.12743227 0.13086447 0.09396243 ... 0.11943298 0.14220703 0.1705335 ]\n",
      "[0.16524269 0.2389719  0.17077042 ... 0.18949026 0.18028125 0.21891728]\n",
      "[0.12854835 0.01708284 0.00875383 ... 0.25166386 0.25166386 0.24242112]\n",
      "[0.19038849 0.11592947 0.15491705 ... 0.11685619 0.18660507 0.23375612]\n",
      "[0.09757891 0.12180606 0.16661304 ... 0.09351672 0.07515135 0.25890416]\n",
      "[0.19991104 0.06464949 0.07188325 ... 0.0865491  0.16825801 0.23226452]\n",
      "[0.17518619 0.18205796 0.18687634 ... 0.01493809 0.09808718 0.22431579]\n",
      "[0.06702673 0.01772148 0.01488706 ... 0.13975102 0.07510047 0.07438875]\n",
      "[0.3542898  0.08125439 0.02048752 ... 0.06207021 0.08353423 0.08448292]\n",
      "[0.12379127 0.19656996 0.11296422 ... 0.03449298 0.09653765 0.24245211]\n",
      "[0.27796477 0.07743094 0.04724813 ... 0.04051846 0.03792928 0.07389171]\n",
      "[0.10445241 0.11996777 0.09129837 ... 0.02792381 0.04039649 0.17074439]\n",
      "[0.19209239 0.18697134 0.1195351  ... 0.03050722 0.05886446 0.10672627]\n",
      "[0.07722384 0.0131816  0.01553885 ... 0.12338187 0.15669876 0.23247647]\n",
      "[0.06342623 0.02016015 0.05834526 ... 0.2276668  0.18728782 0.24466217]\n",
      "[0.2119813  0.20316976 0.19615628 ... 0.22071956 0.17566611 0.22997461]\n",
      "[0.0601462  0.03318116 0.0324492  ... 0.2105531  0.11383174 0.2361245 ]\n",
      "[0.1265712  0.08330182 0.06463853 ... 0.16657522 0.21808942 0.22902718]\n",
      "[0.08066801 0.10080259 0.20423773 ... 0.21072134 0.22746427 0.16923982]\n",
      "[0.16649468 0.12964426 0.13002792 ... 0.19819482 0.2388523  0.17971879]\n",
      "[0.20994957 0.2613123  0.2613123  ... 0.07579038 0.1673255  0.2566729 ]\n",
      "[0.08522592 0.21657167 0.30473593 ... 0.05827711 0.06415552 0.17195696]\n",
      "[0.03657991 0.03291434 0.02131512 ... 0.07390865 0.08467992 0.07894748]\n",
      "[0.2024232  0.14520419 0.2290283  ... 0.05191104 0.08087979 0.11251802]\n",
      "[0.18612824 0.07958979 0.04083395 ... 0.19681333 0.17588462 0.11587631]\n",
      "[0.17039348 0.08840675 0.05965101 ... 0.0980975  0.21937416 0.12459575]\n",
      "[0.13299875 0.09000125 0.18742841 ... 0.23406045 0.19604361 0.23406045]\n",
      "[0.23759313 0.13312513 0.05201546 ... 0.07345238 0.1027128  0.25318748]\n",
      "[0.22215591 0.18400405 0.06739028 ... 0.24799669 0.1616617  0.10108191]\n",
      "[0.0853204  0.21257824 0.19152872 ... 0.12659626 0.08100385 0.09613145]\n",
      "[0.02354294 0.18419479 0.25371566 ... 0.22180118 0.16518979 0.13692051]\n",
      "[0.25583932 0.18799123 0.17014013 ... 0.22392626 0.14067926 0.19060595]\n",
      "[0.3086741  0.3086741  0.21562701 ... 0.23227973 0.14164405 0.03922242]\n",
      "[0.03011382 0.01717424 0.02422351 ... 0.2257887  0.18478835 0.1295035 ]\n",
      "[0.2435966  0.16501531 0.08240297 ... 0.25770018 0.25770018 0.19170102]\n",
      "[0.20740959 0.10625839 0.08497266 ... 0.13786879 0.17045306 0.17609732]\n",
      "[0.06072216 0.02575287 0.07873969 ... 0.23082693 0.23082693 0.16886616]\n",
      "[0.0802249  0.2019617  0.1517478  ... 0.23123209 0.23123209 0.18873154]\n",
      "[0.12356895 0.12696253 0.15948914 ... 0.2291544  0.2291544  0.18819971]\n",
      "[0.14770052 0.09406743 0.08405202 ... 0.04703537 0.08956821 0.17308147]\n",
      "[0.12063273 0.06684551 0.06089533 ... 0.1844795  0.20734335 0.25502536]\n",
      "[0.1374913  0.09342298 0.1280284  ... 0.09357409 0.23832312 0.17003813]\n",
      "[0.07135217 0.09887621 0.13719429 ... 0.24104868 0.21534407 0.24268162]\n",
      "[0.14402218 0.04061725 0.02342851 ... 0.12490131 0.15441032 0.13383728]\n",
      "[0.27338442 0.14625832 0.09958231 ... 0.11246922 0.151      0.13113678]\n",
      "[0.10547686 0.12518747 0.1604039  ... 0.04859161 0.09100404 0.13752566]\n"
     ]
    }
   ],
   "source": [
    "features = np.array([extract_features(img) for img in images])"
   ]
  },
  {
   "cell_type": "code",
   "execution_count": 9,
   "id": "ecd2b6f0",
   "metadata": {},
   "outputs": [],
   "source": [
    "X_train,X_test,y_train, y_test = train_test_split(features, labels, test_size = 0.2, random_state=42)"
   ]
  },
  {
   "cell_type": "code",
   "execution_count": 10,
   "id": "fc58a6b5",
   "metadata": {},
   "outputs": [],
   "source": [
    "svm_classifier = SVC(kernel='linear')"
   ]
  },
  {
   "cell_type": "code",
   "execution_count": 11,
   "id": "3452c12a",
   "metadata": {
    "scrolled": true
   },
   "outputs": [
    {
     "data": {
      "text/html": [
       "<style>#sk-container-id-1 {color: black;background-color: white;}#sk-container-id-1 pre{padding: 0;}#sk-container-id-1 div.sk-toggleable {background-color: white;}#sk-container-id-1 label.sk-toggleable__label {cursor: pointer;display: block;width: 100%;margin-bottom: 0;padding: 0.3em;box-sizing: border-box;text-align: center;}#sk-container-id-1 label.sk-toggleable__label-arrow:before {content: \"▸\";float: left;margin-right: 0.25em;color: #696969;}#sk-container-id-1 label.sk-toggleable__label-arrow:hover:before {color: black;}#sk-container-id-1 div.sk-estimator:hover label.sk-toggleable__label-arrow:before {color: black;}#sk-container-id-1 div.sk-toggleable__content {max-height: 0;max-width: 0;overflow: hidden;text-align: left;background-color: #f0f8ff;}#sk-container-id-1 div.sk-toggleable__content pre {margin: 0.2em;color: black;border-radius: 0.25em;background-color: #f0f8ff;}#sk-container-id-1 input.sk-toggleable__control:checked~div.sk-toggleable__content {max-height: 200px;max-width: 100%;overflow: auto;}#sk-container-id-1 input.sk-toggleable__control:checked~label.sk-toggleable__label-arrow:before {content: \"▾\";}#sk-container-id-1 div.sk-estimator input.sk-toggleable__control:checked~label.sk-toggleable__label {background-color: #d4ebff;}#sk-container-id-1 div.sk-label input.sk-toggleable__control:checked~label.sk-toggleable__label {background-color: #d4ebff;}#sk-container-id-1 input.sk-hidden--visually {border: 0;clip: rect(1px 1px 1px 1px);clip: rect(1px, 1px, 1px, 1px);height: 1px;margin: -1px;overflow: hidden;padding: 0;position: absolute;width: 1px;}#sk-container-id-1 div.sk-estimator {font-family: monospace;background-color: #f0f8ff;border: 1px dotted black;border-radius: 0.25em;box-sizing: border-box;margin-bottom: 0.5em;}#sk-container-id-1 div.sk-estimator:hover {background-color: #d4ebff;}#sk-container-id-1 div.sk-parallel-item::after {content: \"\";width: 100%;border-bottom: 1px solid gray;flex-grow: 1;}#sk-container-id-1 div.sk-label:hover label.sk-toggleable__label {background-color: #d4ebff;}#sk-container-id-1 div.sk-serial::before {content: \"\";position: absolute;border-left: 1px solid gray;box-sizing: border-box;top: 0;bottom: 0;left: 50%;z-index: 0;}#sk-container-id-1 div.sk-serial {display: flex;flex-direction: column;align-items: center;background-color: white;padding-right: 0.2em;padding-left: 0.2em;position: relative;}#sk-container-id-1 div.sk-item {position: relative;z-index: 1;}#sk-container-id-1 div.sk-parallel {display: flex;align-items: stretch;justify-content: center;background-color: white;position: relative;}#sk-container-id-1 div.sk-item::before, #sk-container-id-1 div.sk-parallel-item::before {content: \"\";position: absolute;border-left: 1px solid gray;box-sizing: border-box;top: 0;bottom: 0;left: 50%;z-index: -1;}#sk-container-id-1 div.sk-parallel-item {display: flex;flex-direction: column;z-index: 1;position: relative;background-color: white;}#sk-container-id-1 div.sk-parallel-item:first-child::after {align-self: flex-end;width: 50%;}#sk-container-id-1 div.sk-parallel-item:last-child::after {align-self: flex-start;width: 50%;}#sk-container-id-1 div.sk-parallel-item:only-child::after {width: 0;}#sk-container-id-1 div.sk-dashed-wrapped {border: 1px dashed gray;margin: 0 0.4em 0.5em 0.4em;box-sizing: border-box;padding-bottom: 0.4em;background-color: white;}#sk-container-id-1 div.sk-label label {font-family: monospace;font-weight: bold;display: inline-block;line-height: 1.2em;}#sk-container-id-1 div.sk-label-container {text-align: center;}#sk-container-id-1 div.sk-container {/* jupyter's `normalize.less` sets `[hidden] { display: none; }` but bootstrap.min.css set `[hidden] { display: none !important; }` so we also need the `!important` here to be able to override the default hidden behavior on the sphinx rendered scikit-learn.org. See: https://github.com/scikit-learn/scikit-learn/issues/21755 */display: inline-block !important;position: relative;}#sk-container-id-1 div.sk-text-repr-fallback {display: none;}</style><div id=\"sk-container-id-1\" class=\"sk-top-container\"><div class=\"sk-text-repr-fallback\"><pre>SVC(kernel=&#x27;linear&#x27;)</pre><b>In a Jupyter environment, please rerun this cell to show the HTML representation or trust the notebook. <br />On GitHub, the HTML representation is unable to render, please try loading this page with nbviewer.org.</b></div><div class=\"sk-container\" hidden><div class=\"sk-item\"><div class=\"sk-estimator sk-toggleable\"><input class=\"sk-toggleable__control sk-hidden--visually\" id=\"sk-estimator-id-1\" type=\"checkbox\" checked><label for=\"sk-estimator-id-1\" class=\"sk-toggleable__label sk-toggleable__label-arrow\">SVC</label><div class=\"sk-toggleable__content\"><pre>SVC(kernel=&#x27;linear&#x27;)</pre></div></div></div></div></div>"
      ],
      "text/plain": [
       "SVC(kernel='linear')"
      ]
     },
     "execution_count": 11,
     "metadata": {},
     "output_type": "execute_result"
    }
   ],
   "source": [
    "svm_classifier.fit(X_train,y_train)"
   ]
  },
  {
   "cell_type": "code",
   "execution_count": 12,
   "id": "3571fe9b",
   "metadata": {},
   "outputs": [
    {
     "data": {
      "text/html": [
       "<style>#sk-container-id-2 {color: black;background-color: white;}#sk-container-id-2 pre{padding: 0;}#sk-container-id-2 div.sk-toggleable {background-color: white;}#sk-container-id-2 label.sk-toggleable__label {cursor: pointer;display: block;width: 100%;margin-bottom: 0;padding: 0.3em;box-sizing: border-box;text-align: center;}#sk-container-id-2 label.sk-toggleable__label-arrow:before {content: \"▸\";float: left;margin-right: 0.25em;color: #696969;}#sk-container-id-2 label.sk-toggleable__label-arrow:hover:before {color: black;}#sk-container-id-2 div.sk-estimator:hover label.sk-toggleable__label-arrow:before {color: black;}#sk-container-id-2 div.sk-toggleable__content {max-height: 0;max-width: 0;overflow: hidden;text-align: left;background-color: #f0f8ff;}#sk-container-id-2 div.sk-toggleable__content pre {margin: 0.2em;color: black;border-radius: 0.25em;background-color: #f0f8ff;}#sk-container-id-2 input.sk-toggleable__control:checked~div.sk-toggleable__content {max-height: 200px;max-width: 100%;overflow: auto;}#sk-container-id-2 input.sk-toggleable__control:checked~label.sk-toggleable__label-arrow:before {content: \"▾\";}#sk-container-id-2 div.sk-estimator input.sk-toggleable__control:checked~label.sk-toggleable__label {background-color: #d4ebff;}#sk-container-id-2 div.sk-label input.sk-toggleable__control:checked~label.sk-toggleable__label {background-color: #d4ebff;}#sk-container-id-2 input.sk-hidden--visually {border: 0;clip: rect(1px 1px 1px 1px);clip: rect(1px, 1px, 1px, 1px);height: 1px;margin: -1px;overflow: hidden;padding: 0;position: absolute;width: 1px;}#sk-container-id-2 div.sk-estimator {font-family: monospace;background-color: #f0f8ff;border: 1px dotted black;border-radius: 0.25em;box-sizing: border-box;margin-bottom: 0.5em;}#sk-container-id-2 div.sk-estimator:hover {background-color: #d4ebff;}#sk-container-id-2 div.sk-parallel-item::after {content: \"\";width: 100%;border-bottom: 1px solid gray;flex-grow: 1;}#sk-container-id-2 div.sk-label:hover label.sk-toggleable__label {background-color: #d4ebff;}#sk-container-id-2 div.sk-serial::before {content: \"\";position: absolute;border-left: 1px solid gray;box-sizing: border-box;top: 0;bottom: 0;left: 50%;z-index: 0;}#sk-container-id-2 div.sk-serial {display: flex;flex-direction: column;align-items: center;background-color: white;padding-right: 0.2em;padding-left: 0.2em;position: relative;}#sk-container-id-2 div.sk-item {position: relative;z-index: 1;}#sk-container-id-2 div.sk-parallel {display: flex;align-items: stretch;justify-content: center;background-color: white;position: relative;}#sk-container-id-2 div.sk-item::before, #sk-container-id-2 div.sk-parallel-item::before {content: \"\";position: absolute;border-left: 1px solid gray;box-sizing: border-box;top: 0;bottom: 0;left: 50%;z-index: -1;}#sk-container-id-2 div.sk-parallel-item {display: flex;flex-direction: column;z-index: 1;position: relative;background-color: white;}#sk-container-id-2 div.sk-parallel-item:first-child::after {align-self: flex-end;width: 50%;}#sk-container-id-2 div.sk-parallel-item:last-child::after {align-self: flex-start;width: 50%;}#sk-container-id-2 div.sk-parallel-item:only-child::after {width: 0;}#sk-container-id-2 div.sk-dashed-wrapped {border: 1px dashed gray;margin: 0 0.4em 0.5em 0.4em;box-sizing: border-box;padding-bottom: 0.4em;background-color: white;}#sk-container-id-2 div.sk-label label {font-family: monospace;font-weight: bold;display: inline-block;line-height: 1.2em;}#sk-container-id-2 div.sk-label-container {text-align: center;}#sk-container-id-2 div.sk-container {/* jupyter's `normalize.less` sets `[hidden] { display: none; }` but bootstrap.min.css set `[hidden] { display: none !important; }` so we also need the `!important` here to be able to override the default hidden behavior on the sphinx rendered scikit-learn.org. See: https://github.com/scikit-learn/scikit-learn/issues/21755 */display: inline-block !important;position: relative;}#sk-container-id-2 div.sk-text-repr-fallback {display: none;}</style><div id=\"sk-container-id-2\" class=\"sk-top-container\"><div class=\"sk-text-repr-fallback\"><pre>RandomForestClassifier()</pre><b>In a Jupyter environment, please rerun this cell to show the HTML representation or trust the notebook. <br />On GitHub, the HTML representation is unable to render, please try loading this page with nbviewer.org.</b></div><div class=\"sk-container\" hidden><div class=\"sk-item\"><div class=\"sk-estimator sk-toggleable\"><input class=\"sk-toggleable__control sk-hidden--visually\" id=\"sk-estimator-id-2\" type=\"checkbox\" checked><label for=\"sk-estimator-id-2\" class=\"sk-toggleable__label sk-toggleable__label-arrow\">RandomForestClassifier</label><div class=\"sk-toggleable__content\"><pre>RandomForestClassifier()</pre></div></div></div></div></div>"
      ],
      "text/plain": [
       "RandomForestClassifier()"
      ]
     },
     "execution_count": 12,
     "metadata": {},
     "output_type": "execute_result"
    }
   ],
   "source": [
    "rfc = RandomForestClassifier(n_estimators = 100)\n",
    "rfc.fit(X_train,y_train)"
   ]
  },
  {
   "cell_type": "code",
   "execution_count": 13,
   "id": "3590ecf4",
   "metadata": {},
   "outputs": [],
   "source": [
    "y_pred_svm = svm_classifier.predict(X_test)\n",
    "y_pred_rfc = rfc.predict(X_test)"
   ]
  },
  {
   "cell_type": "code",
   "execution_count": 14,
   "id": "6741b702",
   "metadata": {},
   "outputs": [
    {
     "name": "stdout",
     "output_type": "stream",
     "text": [
      "SVM accuracy score: 95.45454545454545\n"
     ]
    }
   ],
   "source": [
    "accuracy_svm = accuracy_score(y_test, y_pred_svm)\n",
    "print(\"SVM accuracy score:\", accuracy_svm * 100)"
   ]
  },
  {
   "cell_type": "code",
   "execution_count": 15,
   "id": "b1b386f2",
   "metadata": {},
   "outputs": [
    {
     "name": "stdout",
     "output_type": "stream",
     "text": [
      "Random Forest Classifier Accuracy: 0.6818181818181818\n"
     ]
    }
   ],
   "source": [
    "accuracy_rf = accuracy_score(y_test, y_pred_rfc)\n",
    "print(\"Random Forest Classifier Accuracy:\", accuracy_rf)"
   ]
  },
  {
   "cell_type": "markdown",
   "id": "3d33d3ad",
   "metadata": {},
   "source": [
    "# Pre processing grayscale and resize"
   ]
  },
  {
   "cell_type": "code",
   "execution_count": 16,
   "id": "519c3d1a",
   "metadata": {},
   "outputs": [],
   "source": [
    "def preprocess_image(image_path, save_path):\n",
    "    image =cv2.imread(image_path)\n",
    "    \n",
    "    resized_image = cv2.resize(image,(200,266))\n",
    "    \n",
    "    grayscale_image = cv2.cvtColor(resized_image, cv2.COLOR_BGR2GRAY)\n",
    "    cv2.imwrite(save_path, grayscale_image)\n",
    "    return grayscale_image"
   ]
  },
  {
   "cell_type": "code",
   "execution_count": 17,
   "id": "aa547ceb",
   "metadata": {},
   "outputs": [],
   "source": [
    "input_image_path = 'dataset200/val/Cocos_nucifera/IMG_3469.jpg'\n",
    "save_path = 'pre_process.jpg'\n",
    "preprocessed_image = preprocess_image(input_image_path, save_path)"
   ]
  },
  {
   "cell_type": "code",
   "execution_count": 18,
   "id": "45f8ac12",
   "metadata": {},
   "outputs": [
    {
     "name": "stdout",
     "output_type": "stream",
     "text": [
      "[0.17960107 0.03989264 0.03711092 ... 0.23671289 0.23671289 0.16671169]\n",
      "SVM PRED: Cocos_nucifera\n",
      "RFC PRED: Cocos_nucifera\n"
     ]
    }
   ],
   "source": [
    "input_image = cv2.imread('pre_process.jpg')\n",
    "\n",
    "if input_image is not None:\n",
    "    input_features = extract_features(input_image).reshape(1,-1)\n",
    "    svm_pred = svm_classifier.predict(input_features)[0]\n",
    "    rfc_pred = rfc.predict(input_features)[0]\n",
    "    # Display the input image\n",
    "    print(\"SVM PRED:\", svm_pred)\n",
    "    print(\"RFC PRED:\", rfc_pred)\n",
    "else:\n",
    "    print(\"Error unable to read input image\")"
   ]
  },
  {
   "cell_type": "code",
   "execution_count": null,
   "id": "9d8ea6ff-3ec7-4a6d-9eb7-4ad1a41cdc7f",
   "metadata": {},
   "outputs": [],
   "source": []
  }
 ],
 "metadata": {
  "kernelspec": {
   "display_name": "Python 3 (ipykernel)",
   "language": "python",
   "name": "python3"
  },
  "language_info": {
   "codemirror_mode": {
    "name": "ipython",
    "version": 3
   },
   "file_extension": ".py",
   "mimetype": "text/x-python",
   "name": "python",
   "nbconvert_exporter": "python",
   "pygments_lexer": "ipython3",
   "version": "3.11.7"
  }
 },
 "nbformat": 4,
 "nbformat_minor": 5
}
