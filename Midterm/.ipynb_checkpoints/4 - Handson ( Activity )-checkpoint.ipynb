{
 "cells": [
  {
   "cell_type": "code",
   "execution_count": null,
   "id": "46128569-38a2-4bb5-a44d-89cb04914181",
   "metadata": {},
   "outputs": [],
   "source": [
    "import os\n",
    "import cv2\n",
    "import matplotlib.pyplot as plt"
   ]
  },
  {
   "cell_type": "markdown",
   "id": "8b78a017-34fd-4707-96c1-d6072f6148d3",
   "metadata": {},
   "source": [
    "### Gray & Canny"
   ]
  },
  {
   "cell_type": "code",
   "execution_count": 5,
   "id": "faeff04a-0ca0-462c-afbb-bdfce98cb304",
   "metadata": {},
   "outputs": [],
   "source": [
    "def load_images_from_directory(directory):\n",
    "    images = []\n",
    "    labels = []\n",
    "\n",
    "    for cur_dir, sub_dir, files in os.walk(directory):\n",
    "        for class_name in sub_dir:\n",
    "            dir_path = os.path.join(cur_dir, class_name)\n",
    "            for filename in os.listdir(dir_path):\n",
    "                img_path = os.path.join(dir_path, filename)\n",
    "                img = cv2.imread(img_path) \n",
    "                if img is not None:\n",
    "                    img_gray = cv2.cvtColor(img, cv2.COLOR_BGR2GRAY)\n",
    "\n",
    "                    img_canny = cv2.Canny(img_gray, 100, 200)\n",
    "                    images.append(img_canny)\n",
    "                    labels.append(class_name)\n",
    "\n",
    "    return images, labels"
   ]
  },
  {
   "cell_type": "code",
   "execution_count": null,
   "id": "58cd870d-10ae-4b41-9257-94d23448ed66",
   "metadata": {},
   "outputs": [],
   "source": [
    "directory = \"Act2\"\n",
    "images, labels = load_images_from_directory(directory)\n",
    "\n",
    "plt.figure(figsize=(10, 10))\n",
    "for i in range(len(images)):\n",
    "    plt.subplot(3, 5, i + 1)\n",
    "    plt.imshow(images[i], cmap='gray')\n",
    "    plt.title(labels[i])\n",
    "    plt.axis('off')\n",
    "plt.tight_layout()\n",
    "plt.show()"
   ]
  },
  {
   "cell_type": "markdown",
   "id": "ec900537-d992-420c-8e3d-5765b1b0b8e8",
   "metadata": {},
   "source": [
    "### Resize"
   ]
  },
  {
   "cell_type": "code",
   "execution_count": null,
   "id": "7ac6729a-13e6-4310-ade7-4c85ba1d5543",
   "metadata": {},
   "outputs": [],
   "source": [
    "def load_images_from_directory(directory):\n",
    "    images = []\n",
    "    labels = []\n",
    "\n",
    "    for cur_dir, sub_dir, files in os.walk(directory):\n",
    "        for class_name in sub_dir:\n",
    "            dir_path = os.path.join(cur_dir, class_name)\n",
    "            for filename in os.listdir(dir_path):\n",
    "                img_path = os.path.join(dir_path,filename)\n",
    "                img = cv2.imread(img_path)\n",
    "                "
   ]
  }
 ],
 "metadata": {
  "kernelspec": {
   "display_name": "Python 3 (ipykernel)",
   "language": "python",
   "name": "python3"
  },
  "language_info": {
   "codemirror_mode": {
    "name": "ipython",
    "version": 3
   },
   "file_extension": ".py",
   "mimetype": "text/x-python",
   "name": "python",
   "nbconvert_exporter": "python",
   "pygments_lexer": "ipython3",
   "version": "3.11.7"
  }
 },
 "nbformat": 4,
 "nbformat_minor": 5
}
