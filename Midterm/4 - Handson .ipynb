{
 "cells": [
  {
   "cell_type": "code",
   "execution_count": 1,
   "id": "9aac5d7f-38eb-4adc-b6a0-4a9eabd2b424",
   "metadata": {},
   "outputs": [],
   "source": [
    "import os\n",
    "import cv2\n",
    "import matplotlib.pyplot as plt"
   ]
  },
  {
   "cell_type": "markdown",
   "id": "bc3863ed-3fd7-4c60-b098-cf4f958cf8c7",
   "metadata": {},
   "source": [
    "### Gray & Canny"
   ]
  },
  {
   "cell_type": "code",
   "execution_count": 3,
   "id": "007f6184-4c43-44c3-9da9-015413bbab48",
   "metadata": {},
   "outputs": [],
   "source": [
    "def load_images_from_directory(directory):\n",
    "    images = []\n",
    "    labels = []\n",
    "\n",
    "    for cur_dir, sub_dir, files in os.walk(directory):\n",
    "        for class_name in sub_dir:\n",
    "            dir_path = os.path.join(cur_dir, class_name)\n",
    "            for filename in os.listdir(dir_path):\n",
    "                img_path = os.path.join(dir_path, filename)\n",
    "                img = cv2.imread(img_path) \n",
    "                if img is not None:\n",
    "                    img_gray = cv2.cvtColor(img, cv2.COLOR_BGR2GRAY)\n",
    "\n",
    "                    img_canny = cv2.Canny(img_gray, 100, 200)\n",
    "                    images.append(img_canny)\n",
    "                    labels.append(class_name)\n",
    "\n",
    "    return images, labels"
   ]
  },
  {
   "cell_type": "markdown",
   "id": "9a4b3cd2-6022-4078-9398-fb4a067fe97b",
   "metadata": {},
   "source": [
    "### Usage"
   ]
  },
  {
   "cell_type": "code",
   "execution_count": 5,
   "id": "1cec3417-2e6a-4fbf-9ca5-7cd491f92e41",
   "metadata": {},
   "outputs": [
    {
     "data": {
      "text/plain": [
       "<Figure size 1000x1000 with 0 Axes>"
      ]
     },
     "metadata": {},
     "output_type": "display_data"
    }
   ],
   "source": [
    "directory = 'Act2'\n",
    "images, labels = load_images_from_directory(directory)\n",
    "\n",
    "plt.figure(figsize=(10,10))\n",
    "for i in range (len(images)):\n",
    "    plt.subplot(3, 5, i + 1)\n",
    "    plt.imshow(images[i], cmap = 'gray')\n",
    "    plt.labels(labels[i])\n",
    "    plt.axis('off')\n",
    "plt.tight_layout()\n",
    "plt.show()"
   ]
  },
  {
   "cell_type": "markdown",
   "id": "0e009542-c835-40ac-bb91-a2e5d3dd640d",
   "metadata": {},
   "source": [
    "### Resize"
   ]
  },
  {
   "cell_type": "code",
   "execution_count": 6,
   "id": "e05cc688-4106-450d-82ab-57f5bce292cb",
   "metadata": {},
   "outputs": [],
   "source": [
    "import os\n",
    "import cv2\n",
    "\n",
    "def load_images_from_directory(directory):\n",
    "    images = []\n",
    "    labels = []\n",
    "\n",
    "    for cur_dir, sub_dir, files in os.walk(directory):\n",
    "        for class_name in sub_dir:\n",
    "            dir_path = os.path.join(cur_dir, class_name)\n",
    "            for filename in os.listdir(dir_path):\n",
    "                img_path = os.path.join(dir_path, filename)\n",
    "                img = cv2.imread(img_path)\n",
    "\n",
    "                if img is not None:\n",
    "                    img_resize = cv2.resize(img, (266,266))\n",
    "                    images.append(img_resize)\n",
    "                    labels.append(class_name)\n",
    "\n",
    "    return images, labels"
   ]
  },
  {
   "cell_type": "markdown",
   "id": "3c99162f-a53b-479b-ae3c-de91e8aa32b6",
   "metadata": {},
   "source": [
    "### Usage"
   ]
  },
  {
   "cell_type": "code",
   "execution_count": 7,
   "id": "0cf17d6d-60e8-4cde-af26-cf2f9e90a8cd",
   "metadata": {},
   "outputs": [
    {
     "data": {
      "text/plain": [
       "<Figure size 1000x1000 with 0 Axes>"
      ]
     },
     "metadata": {},
     "output_type": "display_data"
    }
   ],
   "source": [
    "directory = \"Act2\"\n",
    "images, labels = load_images_from_directory(directory)\n",
    "\n",
    "plt.figure(figsize=(10, 10))\n",
    "for i in range(len(images)):\n",
    "    plt.subplot(3, 5, i + 1)\n",
    "    plt.imshow(images[i], cmap = 'gray')\n",
    "    plt.title(labels[i])\n",
    "    plt.axis('off')\n",
    "plt.tight_layout()\n",
    "plt.show()"
   ]
  },
  {
   "cell_type": "markdown",
   "id": "b158719c-5efb-4a6c-95ab-ee60ecda11e3",
   "metadata": {},
   "source": [
    "### Image Augmentation"
   ]
  },
  {
   "cell_type": "code",
   "execution_count": 8,
   "id": "54c264fe-db40-4e63-878a-176c4053e56a",
   "metadata": {},
   "outputs": [],
   "source": [
    "def augment_and_save_images(directory, save_directory):\n",
    "    for cur_dir, sub_dir, files in os.walk(directory):\n",
    "        for class_name in sub_dir:\n",
    "            dir_path = os.path.join(cur_dir, class_name)\n",
    "            save_path = os.path.join(save_directory, class_name)\n",
    "            os.makedirs(save_path, exist_ok=True)\n",
    "            for filename in os.listdir(dir_path):\n",
    "                img_path = os.path.join(dir_path, filename)\n",
    "                img = cv2.imread(img_path)\n",
    "\n",
    "                if img is not None:\n",
    "                    # Augment and save images\n",
    "                    flipped_imgs = [img, cv2.flip(img, 0), cv2.flip(img, 1), cv2.flip(img, -1)]\n",
    "                    for i, flipped_img in enumerate(flipped_imgs):\n",
    "                        save_name = f\"{os.path.splitext(filename)[0]}_aug_{i}.jpg\"\n",
    "                        save_img_path = os.path.join(save_path, save_name)\n",
    "                        cv2.imwrite(save_img_path, flipped_img)\n",
    "                        if i != 0: \n",
    "                            print(f\"Flipped image saved: {save_img_path}\")"
   ]
  },
  {
   "cell_type": "markdown",
   "id": "48c02893-f8dc-457a-9555-1ebf4a03b999",
   "metadata": {},
   "source": [
    "### Usage"
   ]
  },
  {
   "cell_type": "code",
   "execution_count": 9,
   "id": "c4ce17c8-c0a3-440a-832f-a6b7c27fbe29",
   "metadata": {},
   "outputs": [],
   "source": [
    "directory = \"Act2\"\n",
    "save_directory = \"AG_images\"\n",
    "augment_and_save_images(directory, save_directory)"
   ]
  }
 ],
 "metadata": {
  "kernelspec": {
   "display_name": "Python 3 (ipykernel)",
   "language": "python",
   "name": "python3"
  },
  "language_info": {
   "codemirror_mode": {
    "name": "ipython",
    "version": 3
   },
   "file_extension": ".py",
   "mimetype": "text/x-python",
   "name": "python",
   "nbconvert_exporter": "python",
   "pygments_lexer": "ipython3",
   "version": "3.11.7"
  }
 },
 "nbformat": 4,
 "nbformat_minor": 5
}
