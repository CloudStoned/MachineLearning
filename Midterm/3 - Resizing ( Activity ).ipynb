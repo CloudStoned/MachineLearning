{
 "cells": [
  {
   "cell_type": "code",
   "execution_count": 1,
   "id": "9e8d5d37-7081-4cce-8425-3be7dd461d1b",
   "metadata": {},
   "outputs": [],
   "source": [
    "import cv2\n",
    "import os"
   ]
  },
  {
   "cell_type": "code",
   "execution_count": 16,
   "id": "f5d701c9-eaa1-4c7e-9448-1dadaa474471",
   "metadata": {},
   "outputs": [
    {
     "name": "stdout",
     "output_type": "stream",
     "text": [
      "Directory Resized Images already exists\n",
      "Subfolder Resized Images\\Mahogany created\n",
      "Resized Image saved: 1.jpg\n",
      "Resized Image saved: 10.jpg\n",
      "Resized Image saved: 11.jpg\n",
      "Resized Image saved: 2.jpg\n",
      "Resized Image saved: 3.jpg\n",
      "Resized Image saved: 4.jpg\n",
      "Resized Image saved: 5.jpg\n",
      "Resized Image saved: 6.jpg\n",
      "Resized Image saved: 7.jpg\n",
      "Resized Image saved: 8.jpg\n",
      "Resized Image saved: 9.jpg\n",
      "Failed to load image: 9.jpg\n"
     ]
    }
   ],
   "source": [
    "folder_path = 'Leaves/Mahogany'\n",
    "new_directory = 'Resized Images'\n",
    "\n",
    "if not os.path.exists(new_directory):\n",
    "    os.makedirs(new_directory)\n",
    "    print(f'Directory {new_directory}')\n",
    "else:\n",
    "    print(f'Directory {new_directory} already exists')\n",
    "\n",
    "subfolder_path = os.path.join(new_directory, os.path.basename(folder_path))\n",
    "if not os.path.exists(subfolder_path):\n",
    "    os.makedirs(subfolder_path)\n",
    "    print(f'Subfolder {subfolder_path} created')\n",
    "else:\n",
    "    print(f'Subfolder {subfolder_path} already exists')\n",
    "\n",
    "image_files = [f for f in os.listdir(folder_path) if f.endswith(('.png', '.jpg', '.jpeg'))]\n",
    "\n",
    "for image_file in image_files:\n",
    "    image_destination = os.path.join(folder_path, image_file)\n",
    "    image = cv2.imread(image_destination)\n",
    "    if image is not None:\n",
    "        resized_image = cv2.resize(image, (266,266))\n",
    "        cv2.imwrite(os.path.join(subfolder_path, image_file), resized_image)\n",
    "        print(f'Resized Image saved: {image_file}')\n",
    "\n",
    "else:\n",
    "    print(f'Failed to load image: {image_file}')\n"
   ]
  },
  {
   "cell_type": "code",
   "execution_count": null,
   "id": "148e7bad-98f0-43ee-9555-85807e17d326",
   "metadata": {},
   "outputs": [],
   "source": []
  }
 ],
 "metadata": {
  "kernelspec": {
   "display_name": "Python 3 (ipykernel)",
   "language": "python",
   "name": "python3"
  },
  "language_info": {
   "codemirror_mode": {
    "name": "ipython",
    "version": 3
   },
   "file_extension": ".py",
   "mimetype": "text/x-python",
   "name": "python",
   "nbconvert_exporter": "python",
   "pygments_lexer": "ipython3",
   "version": "3.11.7"
  }
 },
 "nbformat": 4,
 "nbformat_minor": 5
}
