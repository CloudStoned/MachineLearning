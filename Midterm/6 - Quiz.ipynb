{
 "cells": [
  {
   "cell_type": "markdown",
   "id": "e79e5172-a974-4c47-975d-8d1a8048b6a2",
   "metadata": {},
   "source": [
    "### Step 1: Imports"
   ]
  },
  {
   "cell_type": "code",
   "execution_count": 1,
   "id": "8c268b87-4ba6-4fc8-9b58-c38eaef25411",
   "metadata": {},
   "outputs": [],
   "source": [
    "import os\n",
    "import cv2\n",
    "import numpy as np\n",
    "import matplotlib.pyplot as plt\n",
    "\n",
    "from sklearn.model_selection import train_test_split\n",
    "from sklearn.svm import SVC\n",
    "from sklearn.ensemble import RandomForestClassifier\n",
    "from sklearn.metrics import accuracy_score"
   ]
  },
  {
   "cell_type": "markdown",
   "id": "a6a181f1-4c45-4320-8463-3b5fb2e8eb39",
   "metadata": {},
   "source": [
    "### Step 2: Resizing"
   ]
  },
  {
   "cell_type": "code",
   "execution_count": null,
   "id": "6e065498-8ec2-4faa-bc1b-8163369d3a0b",
   "metadata": {},
   "outputs": [],
   "source": [
    "folder_path = 'QuizDataset/Ylang-ylang'\n",
    "new_directory = 'Resized Images'\n",
    "\n",
    "if not os.path.exists(new_directory):\n",
    "    os.makedirs(new_directory)\n",
    "    print(f'Directory {new_directory}')\n",
    "else:\n",
    "    print(f'Directory {new_directory} already exists')\n",
    "\n",
    "subfolder_path = os.path.join(new_directory, os.path.basename(folder_path))\n",
    "if not os.path.exists(subfolder_path):\n",
    "    os.makedirs(subfolder_path)\n",
    "    print(f'Subfolder {subfolder_path} created')\n",
    "else:\n",
    "    print(f'Subfolder {subfolder_path} already exists')\n",
    "\n",
    "image_files = [f for f in os.listdir(folder_path) if f.endswith(('.png', '.jpg', '.jpeg'))]\n",
    "\n",
    "for image_file in image_files:\n",
    "    image_destination = os.path.join(folder_path, image_file)\n",
    "    image = cv2.imread(image_destination)\n",
    "    if image is not None:\n",
    "        resized_image = cv2.resize(image, (266,266))\n",
    "        cv2.imwrite(os.path.join(subfolder_path, image_file), resized_image)\n",
    "        print(f'Resized Image saved: {image_file}')\n",
    "\n",
    "else:\n",
    "    print(f'Failed to load image: {image_file}')"
   ]
  },
  {
   "cell_type": "markdown",
   "id": "e3f7c9cc-d042-47ba-92c1-f728bcb596af",
   "metadata": {},
   "source": [
    "### Step 3: Pre-process using HOGDescriptor"
   ]
  },
  {
   "cell_type": "code",
   "execution_count": 33,
   "id": "f3944ffe-d09b-47a4-b004-db8a216936fb",
   "metadata": {},
   "outputs": [],
   "source": [
    "def extract_features(image):\n",
    "    gray = cv2.cvtColor(image, cv2.COLOR_BGR2GRAY)\n",
    "    hog = cv2.HOGDescriptor()\n",
    "    features = hog.compute(gray)\n",
    "    print(features)\n",
    "    return features.flatten()"
   ]
  },
  {
   "cell_type": "markdown",
   "id": "e12aa3e0-d9a3-4880-9804-b8ef8e56e396",
   "metadata": {},
   "source": [
    "### Step 4: Load image from set dir"
   ]
  },
  {
   "cell_type": "code",
   "execution_count": 34,
   "id": "58c8a95c-f3f8-4e6f-b615-5aee06d31f2e",
   "metadata": {},
   "outputs": [],
   "source": [
    "def load_images_from_directory(directory):\n",
    "    images = []\n",
    "    labels = []\n",
    "    class_names = []\n",
    "    \n",
    "    for cur_dir, sub_dir,files, in os.walk(directory):\n",
    "        for class_name in sub_dir:\n",
    "            sub_dir_path = os.path.join(cur_dir, class_name)\n",
    "            for filename in os.listdir(sub_dir_path):\n",
    "                img_path = os.path.join(sub_dir_path, filename)\n",
    "                img = cv2.imread(img_path)\n",
    "\n",
    "                if img is not None:\n",
    "                    images.append(img)\n",
    "                    labels.append(class_name)\n",
    "                    class_names.append(class_name)\n",
    "                    \n",
    "    return images, labels, class_names"
   ]
  },
  {
   "cell_type": "markdown",
   "id": "df8b4f6f-8446-4896-bd1d-47c4929832e8",
   "metadata": {},
   "source": [
    "### Step 5: Visualization"
   ]
  },
  {
   "cell_type": "code",
   "execution_count": 35,
   "id": "a2c29d18-a910-4748-a727-5c6d98ee9eef",
   "metadata": {},
   "outputs": [],
   "source": [
    "def visualize_class_distribution(labels, class_names):\n",
    "    class_counts = {class_name: labels.count(class_name) for class_name in set(class_names)}\n",
    "    plt.bar(class_counts.keys(), class_counts.values())\n",
    "    plt.xlabel('Class')\n",
    "    plt.ylabel('Count')\n",
    "    plt.title('Class Distribution')\n",
    "    plt.show()\n",
    "    total_samples = sum(class_counts.values())\n",
    "    for class_name, count in class_counts.items():\n",
    "        percentage = (count / total_samples) * 100\n",
    "        print(f'{class_name}: {count} samples ({percentage:.2f}%)')"
   ]
  },
  {
   "cell_type": "markdown",
   "id": "4f0cff1a-b618-42be-9226-b42cc50c0994",
   "metadata": {},
   "source": [
    "### Step 6: Declare Directory path"
   ]
  },
  {
   "cell_type": "code",
   "execution_count": 36,
   "id": "dd845583-88db-438a-ae1b-b3044c4585e8",
   "metadata": {},
   "outputs": [],
   "source": [
    "directory = 'Resized Images'"
   ]
  },
  {
   "cell_type": "markdown",
   "id": "3811f7da-1e9b-4cc8-beea-2816054948c6",
   "metadata": {},
   "source": [
    "### Step 7: Declare images, labels, classnames"
   ]
  },
  {
   "cell_type": "code",
   "execution_count": 37,
   "id": "a425ef19-02c2-4e3e-8232-60e2d9301dc3",
   "metadata": {},
   "outputs": [],
   "source": [
    "images, labels, class_names = load_images_from_directory(directory)"
   ]
  },
  {
   "cell_type": "markdown",
   "id": "49d07e49-a16c-4d08-a3cf-24a8d45512da",
   "metadata": {},
   "source": [
    "### Step 8: Class Visualization"
   ]
  },
  {
   "cell_type": "code",
   "execution_count": 38,
   "id": "dfd63789-f149-4ee1-b61b-f162bec86af5",
   "metadata": {},
   "outputs": [
    {
     "data": {
      "image/png": "[encoded data removed]",
      "text/plain": [
       "<Figure size 640x480 with 1 Axes>"
      ]
     },
     "metadata": {},
     "output_type": "display_data"
    },
    {
     "name": "stdout",
     "output_type": "stream",
     "text": [
      "Mulawin: 51 samples (48.11%)\n",
      "Dita: 25 samples (23.58%)\n",
      "Ylang-ylang: 30 samples (28.30%)\n"
     ]
    }
   ],
   "source": [
    "visualize_class_distribution(labels, class_names)"
   ]
  },
  {
   "cell_type": "markdown",
   "id": "75b76a12-be7c-4fc9-a8f2-ec9ad7be694d",
   "metadata": {},
   "source": [
    "### Step 9: Use the extract feature extraction function."
   ]
  },
  {
   "cell_type": "code",
   "execution_count": null,
   "id": "2a6a12db-da2a-4f5e-ac45-e8c1bd669ee5",
   "metadata": {},
   "outputs": [],
   "source": [
    "features = np.array([extract_features(img) for img in images])"
   ]
  },
  {
   "cell_type": "markdown",
   "id": "31f47229-52b4-4ca9-aa1b-631cdddf1243",
   "metadata": {},
   "source": [
    "### Step 10: "
   ]
  },
  {
   "cell_type": "code",
   "execution_count": 40,
   "id": "5ef513d0-81d1-4567-93c7-84078651ae2e",
   "metadata": {},
   "outputs": [],
   "source": [
    "X_train, X_test, y_train, y_test = train_test_split(features, labels, test_size = 0.2, random_state=42)"
   ]
  },
  {
   "cell_type": "markdown",
   "id": "a3933bae-32da-4768-8aef-24604ba7efe8",
   "metadata": {},
   "source": [
    "### Step 11: Declare the SVM and Random forest classifier"
   ]
  },
  {
   "cell_type": "code",
   "execution_count": 46,
   "id": "15fa5641-f642-42e4-80bc-448767c31899",
   "metadata": {},
   "outputs": [],
   "source": [
    "svm_classifier = SVC(kernel='linear')\n",
    "rfc = RandomForestClassifier(n_estimators = 100)"
   ]
  },
  {
   "cell_type": "markdown",
   "id": "e83e0c7b-04cd-40b1-93c8-e2299d9af7bd",
   "metadata": {},
   "source": [
    "### Step 12: Fit the models on the declared variables for SVM and Random forest Classifier."
   ]
  },
  {
   "cell_type": "code",
   "execution_count": 49,
   "id": "aec4af1c-7a49-4c36-9d87-f938678b89c9",
   "metadata": {},
   "outputs": [
    {
     "data": {
      "text/html": [
       "<style>#sk-container-id-5 {color: black;background-color: white;}#sk-container-id-5 pre{padding: 0;}#sk-container-id-5 div.sk-toggleable {background-color: white;}#sk-container-id-5 label.sk-toggleable__label {cursor: pointer;display: block;width: 100%;margin-bottom: 0;padding: 0.3em;box-sizing: border-box;text-align: center;}#sk-container-id-5 label.sk-toggleable__label-arrow:before {content: \"▸\";float: left;margin-right: 0.25em;color: #696969;}#sk-container-id-5 label.sk-toggleable__label-arrow:hover:before {color: black;}#sk-container-id-5 div.sk-estimator:hover label.sk-toggleable__label-arrow:before {color: black;}#sk-container-id-5 div.sk-toggleable__content {max-height: 0;max-width: 0;overflow: hidden;text-align: left;background-color: #f0f8ff;}#sk-container-id-5 div.sk-toggleable__content pre {margin: 0.2em;color: black;border-radius: 0.25em;background-color: #f0f8ff;}#sk-container-id-5 input.sk-toggleable__control:checked~div.sk-toggleable__content {max-height: 200px;max-width: 100%;overflow: auto;}#sk-container-id-5 input.sk-toggleable__control:checked~label.sk-toggleable__label-arrow:before {content: \"▾\";}#sk-container-id-5 div.sk-estimator input.sk-toggleable__control:checked~label.sk-toggleable__label {background-color: #d4ebff;}#sk-container-id-5 div.sk-label input.sk-toggleable__control:checked~label.sk-toggleable__label {background-color: #d4ebff;}#sk-container-id-5 input.sk-hidden--visually {border: 0;clip: rect(1px 1px 1px 1px);clip: rect(1px, 1px, 1px, 1px);height: 1px;margin: -1px;overflow: hidden;padding: 0;position: absolute;width: 1px;}#sk-container-id-5 div.sk-estimator {font-family: monospace;background-color: #f0f8ff;border: 1px dotted black;border-radius: 0.25em;box-sizing: border-box;margin-bottom: 0.5em;}#sk-container-id-5 div.sk-estimator:hover {background-color: #d4ebff;}#sk-container-id-5 div.sk-parallel-item::after {content: \"\";width: 100%;border-bottom: 1px solid gray;flex-grow: 1;}#sk-container-id-5 div.sk-label:hover label.sk-toggleable__label {background-color: #d4ebff;}#sk-container-id-5 div.sk-serial::before {content: \"\";position: absolute;border-left: 1px solid gray;box-sizing: border-box;top: 0;bottom: 0;left: 50%;z-index: 0;}#sk-container-id-5 div.sk-serial {display: flex;flex-direction: column;align-items: center;background-color: white;padding-right: 0.2em;padding-left: 0.2em;position: relative;}#sk-container-id-5 div.sk-item {position: relative;z-index: 1;}#sk-container-id-5 div.sk-parallel {display: flex;align-items: stretch;justify-content: center;background-color: white;position: relative;}#sk-container-id-5 div.sk-item::before, #sk-container-id-5 div.sk-parallel-item::before {content: \"\";position: absolute;border-left: 1px solid gray;box-sizing: border-box;top: 0;bottom: 0;left: 50%;z-index: -1;}#sk-container-id-5 div.sk-parallel-item {display: flex;flex-direction: column;z-index: 1;position: relative;background-color: white;}#sk-container-id-5 div.sk-parallel-item:first-child::after {align-self: flex-end;width: 50%;}#sk-container-id-5 div.sk-parallel-item:last-child::after {align-self: flex-start;width: 50%;}#sk-container-id-5 div.sk-parallel-item:only-child::after {width: 0;}#sk-container-id-5 div.sk-dashed-wrapped {border: 1px dashed gray;margin: 0 0.4em 0.5em 0.4em;box-sizing: border-box;padding-bottom: 0.4em;background-color: white;}#sk-container-id-5 div.sk-label label {font-family: monospace;font-weight: bold;display: inline-block;line-height: 1.2em;}#sk-container-id-5 div.sk-label-container {text-align: center;}#sk-container-id-5 div.sk-container {/* jupyter's `normalize.less` sets `[hidden] { display: none; }` but bootstrap.min.css set `[hidden] { display: none !important; }` so we also need the `!important` here to be able to override the default hidden behavior on the sphinx rendered scikit-learn.org. See: https://github.com/scikit-learn/scikit-learn/issues/21755 */display: inline-block !important;position: relative;}#sk-container-id-5 div.sk-text-repr-fallback {display: none;}</style><div id=\"sk-container-id-5\" class=\"sk-top-container\"><div class=\"sk-text-repr-fallback\"><pre>SVC(kernel=&#x27;linear&#x27;)</pre><b>In a Jupyter environment, please rerun this cell to show the HTML representation or trust the notebook. <br />On GitHub, the HTML representation is unable to render, please try loading this page with nbviewer.org.</b></div><div class=\"sk-container\" hidden><div class=\"sk-item\"><div class=\"sk-estimator sk-toggleable\"><input class=\"sk-toggleable__control sk-hidden--visually\" id=\"sk-estimator-id-5\" type=\"checkbox\" checked><label for=\"sk-estimator-id-5\" class=\"sk-toggleable__label sk-toggleable__label-arrow\">SVC</label><div class=\"sk-toggleable__content\"><pre>SVC(kernel=&#x27;linear&#x27;)</pre></div></div></div></div></div>"
      ],
      "text/plain": [
       "SVC(kernel='linear')"
      ]
     },
     "execution_count": 49,
     "metadata": {},
     "output_type": "execute_result"
    }
   ],
   "source": [
    "svm_classifier.fit(X_train,y_train)"
   ]
  },
  {
   "cell_type": "code",
   "execution_count": 48,
   "id": "139dda53-d72e-4bd7-b78c-0d0d404ac994",
   "metadata": {},
   "outputs": [
    {
     "data": {
      "text/html": [
       "<style>#sk-container-id-4 {color: black;background-color: white;}#sk-container-id-4 pre{padding: 0;}#sk-container-id-4 div.sk-toggleable {background-color: white;}#sk-container-id-4 label.sk-toggleable__label {cursor: pointer;display: block;width: 100%;margin-bottom: 0;padding: 0.3em;box-sizing: border-box;text-align: center;}#sk-container-id-4 label.sk-toggleable__label-arrow:before {content: \"▸\";float: left;margin-right: 0.25em;color: #696969;}#sk-container-id-4 label.sk-toggleable__label-arrow:hover:before {color: black;}#sk-container-id-4 div.sk-estimator:hover label.sk-toggleable__label-arrow:before {color: black;}#sk-container-id-4 div.sk-toggleable__content {max-height: 0;max-width: 0;overflow: hidden;text-align: left;background-color: #f0f8ff;}#sk-container-id-4 div.sk-toggleable__content pre {margin: 0.2em;color: black;border-radius: 0.25em;background-color: #f0f8ff;}#sk-container-id-4 input.sk-toggleable__control:checked~div.sk-toggleable__content {max-height: 200px;max-width: 100%;overflow: auto;}#sk-container-id-4 input.sk-toggleable__control:checked~label.sk-toggleable__label-arrow:before {content: \"▾\";}#sk-container-id-4 div.sk-estimator input.sk-toggleable__control:checked~label.sk-toggleable__label {background-color: #d4ebff;}#sk-container-id-4 div.sk-label input.sk-toggleable__control:checked~label.sk-toggleable__label {background-color: #d4ebff;}#sk-container-id-4 input.sk-hidden--visually {border: 0;clip: rect(1px 1px 1px 1px);clip: rect(1px, 1px, 1px, 1px);height: 1px;margin: -1px;overflow: hidden;padding: 0;position: absolute;width: 1px;}#sk-container-id-4 div.sk-estimator {font-family: monospace;background-color: #f0f8ff;border: 1px dotted black;border-radius: 0.25em;box-sizing: border-box;margin-bottom: 0.5em;}#sk-container-id-4 div.sk-estimator:hover {background-color: #d4ebff;}#sk-container-id-4 div.sk-parallel-item::after {content: \"\";width: 100%;border-bottom: 1px solid gray;flex-grow: 1;}#sk-container-id-4 div.sk-label:hover label.sk-toggleable__label {background-color: #d4ebff;}#sk-container-id-4 div.sk-serial::before {content: \"\";position: absolute;border-left: 1px solid gray;box-sizing: border-box;top: 0;bottom: 0;left: 50%;z-index: 0;}#sk-container-id-4 div.sk-serial {display: flex;flex-direction: column;align-items: center;background-color: white;padding-right: 0.2em;padding-left: 0.2em;position: relative;}#sk-container-id-4 div.sk-item {position: relative;z-index: 1;}#sk-container-id-4 div.sk-parallel {display: flex;align-items: stretch;justify-content: center;background-color: white;position: relative;}#sk-container-id-4 div.sk-item::before, #sk-container-id-4 div.sk-parallel-item::before {content: \"\";position: absolute;border-left: 1px solid gray;box-sizing: border-box;top: 0;bottom: 0;left: 50%;z-index: -1;}#sk-container-id-4 div.sk-parallel-item {display: flex;flex-direction: column;z-index: 1;position: relative;background-color: white;}#sk-container-id-4 div.sk-parallel-item:first-child::after {align-self: flex-end;width: 50%;}#sk-container-id-4 div.sk-parallel-item:last-child::after {align-self: flex-start;width: 50%;}#sk-container-id-4 div.sk-parallel-item:only-child::after {width: 0;}#sk-container-id-4 div.sk-dashed-wrapped {border: 1px dashed gray;margin: 0 0.4em 0.5em 0.4em;box-sizing: border-box;padding-bottom: 0.4em;background-color: white;}#sk-container-id-4 div.sk-label label {font-family: monospace;font-weight: bold;display: inline-block;line-height: 1.2em;}#sk-container-id-4 div.sk-label-container {text-align: center;}#sk-container-id-4 div.sk-container {/* jupyter's `normalize.less` sets `[hidden] { display: none; }` but bootstrap.min.css set `[hidden] { display: none !important; }` so we also need the `!important` here to be able to override the default hidden behavior on the sphinx rendered scikit-learn.org. See: https://github.com/scikit-learn/scikit-learn/issues/21755 */display: inline-block !important;position: relative;}#sk-container-id-4 div.sk-text-repr-fallback {display: none;}</style><div id=\"sk-container-id-4\" class=\"sk-top-container\"><div class=\"sk-text-repr-fallback\"><pre>RandomForestClassifier()</pre><b>In a Jupyter environment, please rerun this cell to show the HTML representation or trust the notebook. <br />On GitHub, the HTML representation is unable to render, please try loading this page with nbviewer.org.</b></div><div class=\"sk-container\" hidden><div class=\"sk-item\"><div class=\"sk-estimator sk-toggleable\"><input class=\"sk-toggleable__control sk-hidden--visually\" id=\"sk-estimator-id-4\" type=\"checkbox\" checked><label for=\"sk-estimator-id-4\" class=\"sk-toggleable__label sk-toggleable__label-arrow\">RandomForestClassifier</label><div class=\"sk-toggleable__content\"><pre>RandomForestClassifier()</pre></div></div></div></div></div>"
      ],
      "text/plain": [
       "RandomForestClassifier()"
      ]
     },
     "execution_count": 48,
     "metadata": {},
     "output_type": "execute_result"
    }
   ],
   "source": [
    "rfc.fit(X_train,y_train)"
   ]
  },
  {
   "cell_type": "markdown",
   "id": "638440a2-b822-4716-a5ae-03e2feb3a589",
   "metadata": {},
   "source": [
    "### Step 13: Test accuracy score and multiply it to 100 to get the percentage not decimals."
   ]
  },
  {
   "cell_type": "code",
   "execution_count": null,
   "id": "f8d96927-06ee-4ef9-b30c-e2cad428e804",
   "metadata": {},
   "outputs": [],
   "source": [
    "y_pred_svm = svm_classifier.predict(X_test)\n",
    "y_pred_rfc = rfc.predict(X_test)"
   ]
  },
  {
   "cell_type": "code",
   "execution_count": 51,
   "id": "ba8ba1a8-da39-4765-90aa-8cd09470ef02",
   "metadata": {},
   "outputs": [
    {
     "name": "stdout",
     "output_type": "stream",
     "text": [
      "SVM accuracy score: 95.45454545454545\n"
     ]
    }
   ],
   "source": [
    "accuracy_svm = accuracy_score(y_test, y_pred_svm)\n",
    "print(\"SVM accuracy score:\", accuracy_svm * 100)"
   ]
  },
  {
   "cell_type": "code",
   "execution_count": 52,
   "id": "faec13ce-3864-48d9-b533-7c130aebddf0",
   "metadata": {},
   "outputs": [
    {
     "name": "stdout",
     "output_type": "stream",
     "text": [
      "Random Forest Classifier Accuracy: 77.27272727272727\n"
     ]
    }
   ],
   "source": [
    "accuracy_rf = accuracy_score(y_test, y_pred_rfc)\n",
    "print(\"Random Forest Classifier Accuracy:\", accuracy_rf * 100)"
   ]
  },
  {
   "cell_type": "markdown",
   "id": "227470cb-d3fe-46d4-9dd8-5e321674e088",
   "metadata": {},
   "source": [
    "### Step 14: Create some model testing include some individual testing."
   ]
  },
  {
   "cell_type": "code",
   "execution_count": 83,
   "id": "72f6cea4-4a73-4a07-b83a-f772646bfc73",
   "metadata": {},
   "outputs": [],
   "source": [
    "def preprocess_image(image_path, save_path):\n",
    "    image =cv2.imread(image_path)\n",
    "    \n",
    "    resized_image = cv2.resize(image,(266,266))\n",
    "    \n",
    "    grayscale_image = cv2.cvtColor(resized_image, cv2.COLOR_BGR2GRAY)\n",
    "    cv2.imwrite(save_path, grayscale_image)\n",
    "    return grayscale_image"
   ]
  },
  {
   "cell_type": "code",
   "execution_count": 86,
   "id": "3045316d-ca47-4191-aa5e-33b94e6c68b3",
   "metadata": {},
   "outputs": [],
   "source": [
    "input_image_path = 'QuizDataset/Dita/2024_03_26 11_07 AM Office Lens (1).jpg'\n",
    "save_path = 'pre_process.jpg'\n",
    "preprocessed_image = preprocess_image(input_image_path, save_path) "
   ]
  },
  {
   "cell_type": "code",
   "execution_count": null,
   "id": "53577a59-c696-413c-9f11-fa63a105228a",
   "metadata": {},
   "outputs": [],
   "source": []
  }
 ],
 "metadata": {
  "kernelspec": {
   "display_name": "Python 3 (ipykernel)",
   "language": "python",
   "name": "python3"
  },
  "language_info": {
   "codemirror_mode": {
    "name": "ipython",
    "version": 3
   },
   "file_extension": ".py",
   "mimetype": "text/x-python",
   "name": "python",
   "nbconvert_exporter": "python",
   "pygments_lexer": "ipython3",
   "version": "3.11.7"
  }
 },
 "nbformat": 4,
 "nbformat_minor": 5
}
